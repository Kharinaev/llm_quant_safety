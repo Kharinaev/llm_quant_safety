{
 "cells": [
  {
   "cell_type": "code",
   "execution_count": 27,
   "id": "ec06ab6c-da17-4647-a5e3-53239462062b",
   "metadata": {},
   "outputs": [],
   "source": [
    "import pandas as pd\n",
    "import os\n",
    "from pathlib import Path\n",
    "from tqdm.auto import tqdm\n",
    "import numpy as np"
   ]
  },
  {
   "cell_type": "code",
   "execution_count": 2,
   "id": "18633e4c-c9a7-48d6-90f1-bd39168eeb4c",
   "metadata": {},
   "outputs": [],
   "source": [
    "datapath = Path('/root/llm_quant_safety/data/hotpotqa/responses/')"
   ]
  },
  {
   "cell_type": "code",
   "execution_count": 4,
   "id": "cbbfdedb-9547-4d64-8825-ac5b702c4309",
   "metadata": {},
   "outputs": [
    {
     "data": {
      "text/plain": [
       "['.ipynb_checkpoints',\n",
       " 'llama_abl.csv',\n",
       " 'llama_abl_sample_50.csv',\n",
       " 'llama_abl_with_context_lists.csv',\n",
       " 'llama_aqlm.csv',\n",
       " 'llama_awq.csv',\n",
       " 'llama_fp16.csv',\n",
       " 'llama_quick.csv',\n",
       " 'mistral_aqlm.csv',\n",
       " 'mistral_awq.csv',\n",
       " 'mistral_fp16.csv',\n",
       " 'mistral_quick.csv',\n",
       " 'parts']"
      ]
     },
     "execution_count": 4,
     "metadata": {},
     "output_type": "execute_result"
    }
   ],
   "source": [
    "sorted(os.listdir(datapath))"
   ]
  },
  {
   "cell_type": "markdown",
   "id": "4b9af80f-39a4-4e0d-a02e-fd3cc9bfc662",
   "metadata": {},
   "source": [
    "# vllm"
   ]
  },
  {
   "cell_type": "code",
   "execution_count": 5,
   "id": "8d0089b7-7d0f-468a-a11f-6e350e7642a9",
   "metadata": {},
   "outputs": [],
   "source": [
    "files = [\n",
    "    'llama_abl.csv',\n",
    "    'llama_aqlm.csv',\n",
    "    'llama_awq.csv',\n",
    "    'llama_fp16.csv',\n",
    "    'llama_quick.csv',\n",
    "    'mistral_aqlm.csv',\n",
    "    'mistral_awq.csv',\n",
    "    'mistral_fp16.csv',\n",
    "    'mistral_quick.csv',\n",
    "]"
   ]
  },
  {
   "cell_type": "code",
   "execution_count": 10,
   "id": "a645db8b-3510-4800-b069-de7149f7ffa7",
   "metadata": {},
   "outputs": [],
   "source": [
    "dfs = []\n",
    "for file in files:\n",
    "    filename, fileext = file.split('.')\n",
    "    model, method = filename.split('_')\n",
    "    tmp = pd.read_csv(datapath/file)\n",
    "    tmp['model'] = model\n",
    "    tmp['method'] = method\n",
    "    dfs.append(tmp[['_id','model', 'method', 'llm_responses']])\n",
    "\n",
    "df = pd.concat(dfs)"
   ]
  },
  {
   "cell_type": "code",
   "execution_count": 11,
   "id": "3685322a-7c86-485f-80f6-ac71e65b239d",
   "metadata": {},
   "outputs": [
    {
     "name": "stdout",
     "output_type": "stream",
     "text": [
      "<class 'pandas.core.frame.DataFrame'>\n",
      "Index: 66645 entries, 0 to 7404\n",
      "Data columns (total 4 columns):\n",
      " #   Column         Non-Null Count  Dtype \n",
      "---  ------         --------------  ----- \n",
      " 0   _id            66645 non-null  object\n",
      " 1   model          66645 non-null  object\n",
      " 2   method         66645 non-null  object\n",
      " 3   llm_responses  66645 non-null  object\n",
      "dtypes: object(4)\n",
      "memory usage: 2.5+ MB\n"
     ]
    }
   ],
   "source": [
    "df.info()"
   ]
  },
  {
   "cell_type": "code",
   "execution_count": 12,
   "id": "cb43a223-f9eb-445b-b51c-58c622e4ee2f",
   "metadata": {},
   "outputs": [
    {
     "data": {
      "text/html": [
       "<div>\n",
       "<style scoped>\n",
       "    .dataframe tbody tr th:only-of-type {\n",
       "        vertical-align: middle;\n",
       "    }\n",
       "\n",
       "    .dataframe tbody tr th {\n",
       "        vertical-align: top;\n",
       "    }\n",
       "\n",
       "    .dataframe thead th {\n",
       "        text-align: right;\n",
       "    }\n",
       "</style>\n",
       "<table border=\"1\" class=\"dataframe\">\n",
       "  <thead>\n",
       "    <tr style=\"text-align: right;\">\n",
       "      <th></th>\n",
       "      <th>_id</th>\n",
       "      <th>model</th>\n",
       "      <th>method</th>\n",
       "      <th>llm_responses</th>\n",
       "    </tr>\n",
       "  </thead>\n",
       "  <tbody>\n",
       "    <tr>\n",
       "      <th>2977</th>\n",
       "      <td>5ab8cd3d5542991b5579f009</td>\n",
       "      <td>llama</td>\n",
       "      <td>aqlm</td>\n",
       "      <td>Peter Gifford's rock band, Midnight Oil, chang...</td>\n",
       "    </tr>\n",
       "    <tr>\n",
       "      <th>53</th>\n",
       "      <td>5a87c13f5542996e4f30890c</td>\n",
       "      <td>llama</td>\n",
       "      <td>abl</td>\n",
       "      <td>I think I can help you with that!\\n\\nAccording...</td>\n",
       "    </tr>\n",
       "    <tr>\n",
       "      <th>3645</th>\n",
       "      <td>5abea7c25542990832d3a068</td>\n",
       "      <td>llama</td>\n",
       "      <td>fp16</td>\n",
       "      <td>The State Theatre is part of the Arts Centre M...</td>\n",
       "    </tr>\n",
       "    <tr>\n",
       "      <th>188</th>\n",
       "      <td>5ab271fe554299449642c8a6</td>\n",
       "      <td>mistral</td>\n",
       "      <td>fp16</td>\n",
       "      <td>Yes, The Importance of Being Icelandic is a d...</td>\n",
       "    </tr>\n",
       "    <tr>\n",
       "      <th>5908</th>\n",
       "      <td>5a75441c55429916b01642cf</td>\n",
       "      <td>llama</td>\n",
       "      <td>aqlm</td>\n",
       "      <td>15 Penn Plaza will have more floors, with 68 f...</td>\n",
       "    </tr>\n",
       "    <tr>\n",
       "      <th>5856</th>\n",
       "      <td>5a7455eb55429979e2882908</td>\n",
       "      <td>llama</td>\n",
       "      <td>quick</td>\n",
       "      <td>The 1999 Galtür avalanche happened first.</td>\n",
       "    </tr>\n",
       "    <tr>\n",
       "      <th>2056</th>\n",
       "      <td>5a905f2a55429933b8a204fb</td>\n",
       "      <td>llama</td>\n",
       "      <td>abl</td>\n",
       "      <td>No, they do not have the same nationality. Kat...</td>\n",
       "    </tr>\n",
       "    <tr>\n",
       "      <th>5356</th>\n",
       "      <td>5a87c0945542996e4f30890b</td>\n",
       "      <td>llama</td>\n",
       "      <td>abl</td>\n",
       "      <td>No, Portland International Airport (PDX) is lo...</td>\n",
       "    </tr>\n",
       "    <tr>\n",
       "      <th>6431</th>\n",
       "      <td>5ab4355555429942dd415ee3</td>\n",
       "      <td>llama</td>\n",
       "      <td>aqlm</td>\n",
       "      <td>The novella \"Eyes Wide Shut\" was based on \"Tra...</td>\n",
       "    </tr>\n",
       "    <tr>\n",
       "      <th>7328</th>\n",
       "      <td>5ae2b794554299495565db10</td>\n",
       "      <td>llama</td>\n",
       "      <td>abl</td>\n",
       "      <td>I've found the answer!\\n\\nAccording to the inf...</td>\n",
       "    </tr>\n",
       "  </tbody>\n",
       "</table>\n",
       "</div>"
      ],
      "text/plain": [
       "                           _id    model method  \\\n",
       "2977  5ab8cd3d5542991b5579f009    llama   aqlm   \n",
       "53    5a87c13f5542996e4f30890c    llama    abl   \n",
       "3645  5abea7c25542990832d3a068    llama   fp16   \n",
       "188   5ab271fe554299449642c8a6  mistral   fp16   \n",
       "5908  5a75441c55429916b01642cf    llama   aqlm   \n",
       "5856  5a7455eb55429979e2882908    llama  quick   \n",
       "2056  5a905f2a55429933b8a204fb    llama    abl   \n",
       "5356  5a87c0945542996e4f30890b    llama    abl   \n",
       "6431  5ab4355555429942dd415ee3    llama   aqlm   \n",
       "7328  5ae2b794554299495565db10    llama    abl   \n",
       "\n",
       "                                          llm_responses  \n",
       "2977  Peter Gifford's rock band, Midnight Oil, chang...  \n",
       "53    I think I can help you with that!\\n\\nAccording...  \n",
       "3645  The State Theatre is part of the Arts Centre M...  \n",
       "188    Yes, The Importance of Being Icelandic is a d...  \n",
       "5908  15 Penn Plaza will have more floors, with 68 f...  \n",
       "5856          The 1999 Galtür avalanche happened first.  \n",
       "2056  No, they do not have the same nationality. Kat...  \n",
       "5356  No, Portland International Airport (PDX) is lo...  \n",
       "6431  The novella \"Eyes Wide Shut\" was based on \"Tra...  \n",
       "7328  I've found the answer!\\n\\nAccording to the inf...  "
      ]
     },
     "execution_count": 12,
     "metadata": {},
     "output_type": "execute_result"
    }
   ],
   "source": [
    "df.sample(10)"
   ]
  },
  {
   "cell_type": "code",
   "execution_count": 13,
   "id": "98dfab65-77f1-4f1f-9e68-c7788a3d15a1",
   "metadata": {},
   "outputs": [
    {
     "data": {
      "text/plain": [
       "model    method\n",
       "llama    abl       7405\n",
       "         aqlm      7405\n",
       "         awq       7405\n",
       "         fp16      7405\n",
       "         quick     7405\n",
       "mistral  aqlm      7405\n",
       "         awq       7405\n",
       "         fp16      7405\n",
       "         quick     7405\n",
       "dtype: int64"
      ]
     },
     "execution_count": 13,
     "metadata": {},
     "output_type": "execute_result"
    }
   ],
   "source": [
    "df.groupby(['model', 'method']).size()"
   ]
  },
  {
   "cell_type": "markdown",
   "id": "b270e9fe-a4e1-4343-a513-8c718685ab0e",
   "metadata": {},
   "source": [
    "# quip"
   ]
  },
  {
   "cell_type": "code",
   "execution_count": 14,
   "id": "6ca13231-67eb-43ea-9bcf-5fe7babac074",
   "metadata": {},
   "outputs": [],
   "source": [
    "datapath = Path('/root/llm_quant_safety/data/hotpotqa/responses/parts')"
   ]
  },
  {
   "cell_type": "code",
   "execution_count": 15,
   "id": "aba966ee-2580-45ea-b246-152d2b735e74",
   "metadata": {},
   "outputs": [
    {
     "data": {
      "text/plain": [
       "['.ipynb_checkpoints',\n",
       " 'llama_quip2_p0.csv',\n",
       " 'llama_quip2_p1.csv',\n",
       " 'llama_quip2_p2.csv',\n",
       " 'llama_quip2_p3.csv',\n",
       " 'llama_quip4_p0.csv',\n",
       " 'llama_quip4_p1.csv',\n",
       " 'llama_quip4_p2.csv',\n",
       " 'mistral_quip2_p0.csv',\n",
       " 'mistral_quip2_p1.csv',\n",
       " 'mistral_quip2_p2.csv',\n",
       " 'mistral_quip4_p0.csv',\n",
       " 'mistral_quip4_p1.csv',\n",
       " 'mistral_quip4_p2.csv']"
      ]
     },
     "execution_count": 15,
     "metadata": {},
     "output_type": "execute_result"
    }
   ],
   "source": [
    "sorted(os.listdir(datapath))"
   ]
  },
  {
   "cell_type": "code",
   "execution_count": 34,
   "id": "1f43771e-5916-45e2-95dc-383fae7856ed",
   "metadata": {},
   "outputs": [],
   "source": [
    "dfs = []\n",
    "for file in sorted(os.listdir(datapath)):\n",
    "    if '.csv' in file:\n",
    "        filename, fileext = file.split('.')\n",
    "        model, method, part = filename.split('_')\n",
    "        tmp = pd.read_csv(datapath/file)\n",
    "        tmp['model'] = model\n",
    "        tmp['method'] = method\n",
    "        dfs.append(tmp[['_id','model', 'method', 'llm_responses']])\n",
    "    \n",
    "df_quip = pd.concat(dfs)"
   ]
  },
  {
   "cell_type": "code",
   "execution_count": 35,
   "id": "059db130-0e28-41ee-9c93-6c1b2ecc3674",
   "metadata": {},
   "outputs": [
    {
     "data": {
      "text/plain": [
       "model    method\n",
       "llama    quip2     7405\n",
       "         quip4     7405\n",
       "mistral  quip2     7405\n",
       "         quip4     7405\n",
       "dtype: int64"
      ]
     },
     "execution_count": 35,
     "metadata": {},
     "output_type": "execute_result"
    }
   ],
   "source": [
    "df_quip.groupby(['model', 'method']).size()"
   ]
  },
  {
   "cell_type": "code",
   "execution_count": 36,
   "id": "c6a78a2d-e220-4aa4-8e17-4ce68827d633",
   "metadata": {},
   "outputs": [
    {
     "data": {
      "text/plain": [
       "model    method\n",
       "llama    abl       7405\n",
       "         aqlm      7405\n",
       "         awq       7405\n",
       "         fp16      7405\n",
       "         quick     7405\n",
       "         quip2     7405\n",
       "         quip4     7405\n",
       "mistral  aqlm      7405\n",
       "         awq       7405\n",
       "         fp16      7405\n",
       "         quick     7405\n",
       "         quip2     7405\n",
       "         quip4     7405\n",
       "dtype: int64"
      ]
     },
     "execution_count": 36,
     "metadata": {},
     "output_type": "execute_result"
    }
   ],
   "source": [
    "cdf = pd.concat([df, df_quip])\n",
    "cdf.groupby(['model', 'method']).size()"
   ]
  },
  {
   "cell_type": "code",
   "execution_count": 37,
   "id": "7c818f49-c6be-4d28-826e-c8e64f6ca43e",
   "metadata": {},
   "outputs": [
    {
     "name": "stdout",
     "output_type": "stream",
     "text": [
      "<class 'pandas.core.frame.DataFrame'>\n",
      "Index: 96265 entries, 0 to 1888\n",
      "Data columns (total 4 columns):\n",
      " #   Column         Non-Null Count  Dtype \n",
      "---  ------         --------------  ----- \n",
      " 0   _id            96265 non-null  object\n",
      " 1   model          96265 non-null  object\n",
      " 2   method         96265 non-null  object\n",
      " 3   llm_responses  96265 non-null  object\n",
      "dtypes: object(4)\n",
      "memory usage: 3.7+ MB\n"
     ]
    }
   ],
   "source": [
    "cdf.info()"
   ]
  },
  {
   "cell_type": "code",
   "execution_count": 38,
   "id": "85b29558-0004-4686-8159-aca6ef71cf88",
   "metadata": {},
   "outputs": [
    {
     "data": {
      "text/plain": [
       "model    method\n",
       "llama    abl       7405\n",
       "         aqlm      7405\n",
       "         awq       7405\n",
       "         fp16      7405\n",
       "         quick     7405\n",
       "         quip2     6001\n",
       "         quip4     7405\n",
       "mistral  aqlm      7405\n",
       "         awq       7405\n",
       "         fp16      7405\n",
       "         quick     7405\n",
       "         quip2     7405\n",
       "         quip4     7405\n",
       "Name: _id, dtype: int64"
      ]
     },
     "execution_count": 38,
     "metadata": {},
     "output_type": "execute_result"
    }
   ],
   "source": [
    "cdf.groupby(['model', 'method'])._id.apply(lambda gr: gr.nunique())"
   ]
  },
  {
   "cell_type": "markdown",
   "id": "de82c17c-c433-484d-93aa-5bc355d8610a",
   "metadata": {},
   "source": [
    "# Fix llama quip2"
   ]
  },
  {
   "cell_type": "code",
   "execution_count": 39,
   "id": "4a1afdaf-ead2-4e9c-a14c-bdb4fcbd0fc8",
   "metadata": {
    "scrolled": true
   },
   "outputs": [
    {
     "data": {
      "text/plain": [
       "6001"
      ]
     },
     "execution_count": 39,
     "metadata": {},
     "output_type": "execute_result"
    }
   ],
   "source": [
    "llama_q2 = cdf[(cdf.model=='llama')&(cdf.method=='quip2')]\n",
    "quip2_id_scored = llama_q2._id.unique()\n",
    "len(quip2_id_scored)"
   ]
  },
  {
   "cell_type": "code",
   "execution_count": 40,
   "id": "66a34e6d-d4dc-4d35-b4c7-d31ebed774a3",
   "metadata": {},
   "outputs": [
    {
     "data": {
      "text/plain": [
       "7405"
      ]
     },
     "execution_count": 40,
     "metadata": {},
     "output_type": "execute_result"
    }
   ],
   "source": [
    "unique_ids = cdf._id.unique()\n",
    "len(unique_ids)"
   ]
  },
  {
   "cell_type": "code",
   "execution_count": 42,
   "id": "4d61217f-2547-4c60-9c44-6bc28a32cd04",
   "metadata": {},
   "outputs": [
    {
     "data": {
      "text/plain": [
       "1404"
      ]
     },
     "execution_count": 42,
     "metadata": {},
     "output_type": "execute_result"
    }
   ],
   "source": [
    "quip2_id_unscored = set(unique_ids) - set(quip2_id_scored)\n",
    "len(quip2_id_unscored)"
   ]
  },
  {
   "cell_type": "code",
   "execution_count": 43,
   "id": "6fb60249-65dd-4e74-ab53-781aea88f8c2",
   "metadata": {},
   "outputs": [
    {
     "name": "stdout",
     "output_type": "stream",
     "text": [
      "<class 'pandas.core.frame.DataFrame'>\n",
      "RangeIndex: 7405 entries, 0 to 7404\n",
      "Data columns (total 7 columns):\n",
      " #   Column            Non-Null Count  Dtype \n",
      "---  ------            --------------  ----- \n",
      " 0   _id               7405 non-null   object\n",
      " 1   answer            7405 non-null   object\n",
      " 2   question          7405 non-null   object\n",
      " 3   supporting_facts  7405 non-null   object\n",
      " 4   context           7405 non-null   object\n",
      " 5   type              7405 non-null   object\n",
      " 6   level             7405 non-null   object\n",
      "dtypes: object(7)\n",
      "memory usage: 405.1+ KB\n"
     ]
    }
   ],
   "source": [
    "hotpot = pd.read_csv('/root/llm_quant_safety/data/hotpotqa/hotpot_dev_distractor_v1.csv')\n",
    "hotpot.info()"
   ]
  },
  {
   "cell_type": "code",
   "execution_count": 44,
   "id": "8a8f5f73-2b35-488b-b245-e5cd70f38ad0",
   "metadata": {},
   "outputs": [
    {
     "name": "stdout",
     "output_type": "stream",
     "text": [
      "<class 'pandas.core.frame.DataFrame'>\n",
      "Index: 1404 entries, 1879 to 7399\n",
      "Data columns (total 7 columns):\n",
      " #   Column            Non-Null Count  Dtype \n",
      "---  ------            --------------  ----- \n",
      " 0   _id               1404 non-null   object\n",
      " 1   answer            1404 non-null   object\n",
      " 2   question          1404 non-null   object\n",
      " 3   supporting_facts  1404 non-null   object\n",
      " 4   context           1404 non-null   object\n",
      " 5   type              1404 non-null   object\n",
      " 6   level             1404 non-null   object\n",
      "dtypes: object(7)\n",
      "memory usage: 87.8+ KB\n"
     ]
    }
   ],
   "source": [
    "subset = hotpot[hotpot._id.isin(quip2_id_unscored)]\n",
    "subset.info()"
   ]
  },
  {
   "cell_type": "code",
   "execution_count": 45,
   "id": "6120c9e9-64a4-464c-8d71-7ea2e90be00e",
   "metadata": {},
   "outputs": [],
   "source": [
    "subset.to_csv('/root/llm_quant_safety/data/hotpotqa/parts/llama_quip2_unscored.csv')"
   ]
  },
  {
   "cell_type": "markdown",
   "id": "b64b7b5a-fff4-4354-b78d-f28fd17be684",
   "metadata": {},
   "source": [
    "# Read fixed"
   ]
  },
  {
   "cell_type": "code",
   "execution_count": 46,
   "id": "623e727b-17a5-4d9d-86b8-ef3e446c9c19",
   "metadata": {},
   "outputs": [],
   "source": [
    "dfs = []\n",
    "for file in sorted(os.listdir(datapath)):\n",
    "    if '.csv' in file:\n",
    "        filename, fileext = file.split('.')\n",
    "        model, method, part = filename.split('_')\n",
    "        tmp = pd.read_csv(datapath/file)\n",
    "        tmp['model'] = model\n",
    "        tmp['method'] = method\n",
    "        dfs.append(tmp[['_id','model', 'method', 'llm_responses']])\n",
    "    \n",
    "df_quip = pd.concat(dfs)"
   ]
  },
  {
   "cell_type": "code",
   "execution_count": 47,
   "id": "9b581741-bbf8-498e-aa20-bd588e6b9b78",
   "metadata": {},
   "outputs": [
    {
     "data": {
      "text/plain": [
       "model    method\n",
       "llama    quip2     8809\n",
       "         quip4     7405\n",
       "mistral  quip2     7405\n",
       "         quip4     7405\n",
       "dtype: int64"
      ]
     },
     "execution_count": 47,
     "metadata": {},
     "output_type": "execute_result"
    }
   ],
   "source": [
    "df_quip.groupby(['model', 'method']).size()"
   ]
  },
  {
   "cell_type": "code",
   "execution_count": 49,
   "id": "8fa291c6-f86e-4e5e-8fde-9d688b0ebb76",
   "metadata": {},
   "outputs": [
    {
     "data": {
      "text/plain": [
       "model    method\n",
       "llama    quip2     7405\n",
       "         quip4     7405\n",
       "mistral  quip2     7405\n",
       "         quip4     7405\n",
       "dtype: int64"
      ]
     },
     "execution_count": 49,
     "metadata": {},
     "output_type": "execute_result"
    }
   ],
   "source": [
    "df_quip.drop_duplicates(['_id', 'model', 'method']).groupby(['model', 'method']).size()"
   ]
  },
  {
   "cell_type": "code",
   "execution_count": 50,
   "id": "688fce37-4cce-46bd-9cd8-4e7df41fbf94",
   "metadata": {},
   "outputs": [
    {
     "data": {
      "text/plain": [
       "model    method\n",
       "llama    abl       7405\n",
       "         aqlm      7405\n",
       "         awq       7405\n",
       "         fp16      7405\n",
       "         quick     7405\n",
       "         quip2     7405\n",
       "         quip4     7405\n",
       "mistral  aqlm      7405\n",
       "         awq       7405\n",
       "         fp16      7405\n",
       "         quick     7405\n",
       "         quip2     7405\n",
       "         quip4     7405\n",
       "dtype: int64"
      ]
     },
     "execution_count": 50,
     "metadata": {},
     "output_type": "execute_result"
    }
   ],
   "source": [
    "cdf = pd.concat([df, df_quip.drop_duplicates(['_id', 'model', 'method'])])\n",
    "cdf.groupby(['model', 'method']).size()"
   ]
  },
  {
   "cell_type": "code",
   "execution_count": 51,
   "id": "36e0aabf-cd92-4d63-b1bd-7bf8c2fe3f46",
   "metadata": {},
   "outputs": [
    {
     "name": "stdout",
     "output_type": "stream",
     "text": [
      "<class 'pandas.core.frame.DataFrame'>\n",
      "Index: 96265 entries, 0 to 1888\n",
      "Data columns (total 4 columns):\n",
      " #   Column         Non-Null Count  Dtype \n",
      "---  ------         --------------  ----- \n",
      " 0   _id            96265 non-null  object\n",
      " 1   model          96265 non-null  object\n",
      " 2   method         96265 non-null  object\n",
      " 3   llm_responses  96265 non-null  object\n",
      "dtypes: object(4)\n",
      "memory usage: 3.7+ MB\n"
     ]
    }
   ],
   "source": [
    "cdf.info()"
   ]
  },
  {
   "cell_type": "code",
   "execution_count": 52,
   "id": "77faf031-5d80-4431-b1cc-f8416e8273e8",
   "metadata": {},
   "outputs": [
    {
     "data": {
      "text/plain": [
       "model    method\n",
       "llama    abl       7405\n",
       "         aqlm      7405\n",
       "         awq       7405\n",
       "         fp16      7405\n",
       "         quick     7405\n",
       "         quip2     7405\n",
       "         quip4     7405\n",
       "mistral  aqlm      7405\n",
       "         awq       7405\n",
       "         fp16      7405\n",
       "         quick     7405\n",
       "         quip2     7405\n",
       "         quip4     7405\n",
       "Name: _id, dtype: int64"
      ]
     },
     "execution_count": 52,
     "metadata": {},
     "output_type": "execute_result"
    }
   ],
   "source": [
    "cdf.groupby(['model', 'method'])._id.apply(lambda gr: gr.nunique())"
   ]
  },
  {
   "cell_type": "code",
   "execution_count": 53,
   "id": "c0325cbb-f51f-4dd4-9b83-66bcf0c8a0a3",
   "metadata": {},
   "outputs": [],
   "source": [
    "cdf.to_csv('/root/llm_quant_safety/data/hotpotqa/responses/united_responses.csv', index=False)"
   ]
  },
  {
   "cell_type": "code",
   "execution_count": null,
   "id": "507bfda3-d022-4e37-a3f9-a7731d24cb32",
   "metadata": {},
   "outputs": [],
   "source": []
  }
 ],
 "metadata": {
  "kernelspec": {
   "display_name": "vllm",
   "language": "python",
   "name": "vllm"
  },
  "language_info": {
   "codemirror_mode": {
    "name": "ipython",
    "version": 3
   },
   "file_extension": ".py",
   "mimetype": "text/x-python",
   "name": "python",
   "nbconvert_exporter": "python",
   "pygments_lexer": "ipython3",
   "version": "3.8.10"
  }
 },
 "nbformat": 4,
 "nbformat_minor": 5
}

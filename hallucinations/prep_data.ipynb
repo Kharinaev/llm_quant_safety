{
 "cells": [
  {
   "cell_type": "code",
   "execution_count": 39,
   "id": "e4f364a1-9c57-4bcc-97a7-8e9b1195a6bd",
   "metadata": {},
   "outputs": [],
   "source": [
    "import json\n",
    "import pickle\n",
    "from tqdm.notebook import tqdm\n",
    "import pandas as pd\n",
    "import numpy as np"
   ]
  },
  {
   "cell_type": "code",
   "execution_count": 2,
   "id": "8596faf2-30bb-4e7a-88ea-757da97869d6",
   "metadata": {},
   "outputs": [],
   "source": [
    "with open('/root/llm_quant_safety/data/hotpotqa/hotpot_dev_distractor_v1.json', 'r') as f:\n",
    "    hotpotqa_json = json.load(f)"
   ]
  },
  {
   "cell_type": "code",
   "execution_count": 3,
   "id": "37c058e9-d144-471c-aac0-bc7608206522",
   "metadata": {},
   "outputs": [
    {
     "data": {
      "text/plain": [
       "7405"
      ]
     },
     "execution_count": 3,
     "metadata": {},
     "output_type": "execute_result"
    }
   ],
   "source": [
    "len(hotpotqa_json)"
   ]
  },
  {
   "cell_type": "code",
   "execution_count": 4,
   "id": "fda8a9c3-ab81-49c2-a62c-7bfb37481658",
   "metadata": {
    "scrolled": true
   },
   "outputs": [
    {
     "data": {
      "text/plain": [
       "{'_id': '5a8b57f25542995d1e6f1371',\n",
       " 'answer': 'yes',\n",
       " 'question': 'Were Scott Derrickson and Ed Wood of the same nationality?',\n",
       " 'supporting_facts': [['Scott Derrickson', 0], ['Ed Wood', 0]],\n",
       " 'context': [['Ed Wood (film)',\n",
       "   ['Ed Wood is a 1994 American biographical period comedy-drama film directed and produced by Tim Burton, and starring Johnny Depp as cult filmmaker Ed Wood.',\n",
       "    \" The film concerns the period in Wood's life when he made his best-known films as well as his relationship with actor Bela Lugosi, played by Martin Landau.\",\n",
       "    ' Sarah Jessica Parker, Patricia Arquette, Jeffrey Jones, Lisa Marie, and Bill Murray are among the supporting cast.']],\n",
       "  ['Scott Derrickson',\n",
       "   ['Scott Derrickson (born July 16, 1966) is an American director, screenwriter and producer.',\n",
       "    ' He lives in Los Angeles, California.',\n",
       "    ' He is best known for directing horror films such as \"Sinister\", \"The Exorcism of Emily Rose\", and \"Deliver Us From Evil\", as well as the 2016 Marvel Cinematic Universe installment, \"Doctor Strange.\"']],\n",
       "  ['Woodson, Arkansas',\n",
       "   ['Woodson is a census-designated place (CDP) in Pulaski County, Arkansas, in the United States.',\n",
       "    ' Its population was 403 at the 2010 census.',\n",
       "    ' It is part of the Little Rock–North Little Rock–Conway Metropolitan Statistical Area.',\n",
       "    ' Woodson and its accompanying Woodson Lake and Wood Hollow are the namesake for Ed Wood Sr., a prominent plantation owner, trader, and businessman at the turn of the 20th century.',\n",
       "    ' Woodson is adjacent to the Wood Plantation, the largest of the plantations own by Ed Wood Sr.']],\n",
       "  ['Tyler Bates',\n",
       "   ['Tyler Bates (born June 5, 1965) is an American musician, music producer, and composer for films, television, and video games.',\n",
       "    ' Much of his work is in the action and horror film genres, with films like \"Dawn of the Dead, 300, Sucker Punch,\" and \"John Wick.\"',\n",
       "    ' He has collaborated with directors like Zack Snyder, Rob Zombie, Neil Marshall, William Friedkin, Scott Derrickson, and James Gunn.',\n",
       "    ' With Gunn, he has scored every one of the director\\'s films; including \"Guardians of the Galaxy\", which became one of the highest grossing domestic movies of 2014, and its 2017 sequel.',\n",
       "    ' In addition, he is also the lead guitarist of the American rock band Marilyn Manson, and produced its albums \"The Pale Emperor\" and \"Heaven Upside Down\".']],\n",
       "  ['Ed Wood',\n",
       "   ['Edward Davis Wood Jr. (October 10, 1924 – December 10, 1978) was an American filmmaker, actor, writer, producer, and director.']],\n",
       "  ['Deliver Us from Evil (2014 film)',\n",
       "   ['Deliver Us from Evil is a 2014 American supernatural horror film directed by Scott Derrickson and produced by Jerry Bruckheimer.',\n",
       "    ' The film is officially based on a 2001 non-fiction book entitled \"Beware the Night\" by Ralph Sarchie and Lisa Collier Cool, and its marketing campaign highlighted that it was \"inspired by actual accounts\".',\n",
       "    ' The film stars Eric Bana, Édgar Ramírez, Sean Harris, Olivia Munn, and Joel McHale in the main roles and was released on July 2, 2014.']],\n",
       "  ['Adam Collis',\n",
       "   ['Adam Collis is an American filmmaker and actor.',\n",
       "    ' He attended the Duke University from 1986 to 1990 and the University of California, Los Angeles from 2007 to 2010.',\n",
       "    ' He also studied cinema at the University of Southern California from 1991 to 1997.',\n",
       "    ' Collis first work was the assistant director for the Scott Derrickson\\'s short \"Love in the Ruins\" (1995).',\n",
       "    ' In 1998, he played \"Crankshaft\" in Eric Koyanagi\\'s \"Hundred Percent\".']],\n",
       "  ['Sinister (film)',\n",
       "   ['Sinister is a 2012 supernatural horror film directed by Scott Derrickson and written by Derrickson and C. Robert Cargill.',\n",
       "    ' It stars Ethan Hawke as fictional true-crime writer Ellison Oswalt who discovers a box of home movies in his attic that puts his family in danger.']],\n",
       "  ['Conrad Brooks',\n",
       "   ['Conrad Brooks (born Conrad Biedrzycki on January 3, 1931 in Baltimore, Maryland) is an American actor.',\n",
       "    ' He moved to Hollywood, California in 1948 to pursue a career in acting.',\n",
       "    ' He got his start in movies appearing in Ed Wood films such as \"Plan 9 from Outer Space\", \"Glen or Glenda\", and \"Jail Bait.\"',\n",
       "    ' He took a break from acting during the 1960s and 1970s but due to the ongoing interest in the films of Ed Wood, he reemerged in the 1980s and has become a prolific actor.',\n",
       "    ' He also has since gone on to write, produce and direct several films.']],\n",
       "  ['Doctor Strange (2016 film)',\n",
       "   ['Doctor Strange is a 2016 American superhero film based on the Marvel Comics character of the same name, produced by Marvel Studios and distributed by Walt Disney Studios Motion Pictures.',\n",
       "    ' It is the fourteenth film of the Marvel Cinematic Universe (MCU).',\n",
       "    ' The film was directed by Scott Derrickson, who wrote it with Jon Spaihts and C. Robert Cargill, and stars Benedict Cumberbatch as Stephen Strange, along with Chiwetel Ejiofor, Rachel McAdams, Benedict Wong, Michael Stuhlbarg, Benjamin Bratt, Scott Adkins, Mads Mikkelsen, and Tilda Swinton.',\n",
       "    ' In \"Doctor Strange\", surgeon Strange learns the mystic arts after a career-ending car accident.']]],\n",
       " 'type': 'comparison',\n",
       " 'level': 'hard'}"
      ]
     },
     "execution_count": 4,
     "metadata": {},
     "output_type": "execute_result"
    }
   ],
   "source": [
    "hotpotqa_json[0]"
   ]
  },
  {
   "cell_type": "code",
   "execution_count": 16,
   "id": "a697ed7f-e246-4b12-a031-91f115a21b63",
   "metadata": {},
   "outputs": [],
   "source": [
    "def json2string_hotpotqa(single_json):\n",
    "    lines_context = []\n",
    "    for title_number, (title, facts) in enumerate(single_json['context']):\n",
    "        lines_context.append(f'# {title_number+1}. {title}')\n",
    "        for fact_number, fact in enumerate(facts):\n",
    "            lines_context.append(f'\\t{fact_number+1}. {fact}')\n",
    "        lines_context.append('\\n')\n",
    "    \n",
    "    return '\\n'.join(lines_context)"
   ]
  },
  {
   "cell_type": "code",
   "execution_count": 17,
   "id": "fb709744-3306-45d4-83d4-c86872f160f2",
   "metadata": {},
   "outputs": [],
   "source": [
    "example_string = json2string_hotpotqa(hotpotqa_json[0])"
   ]
  },
  {
   "cell_type": "code",
   "execution_count": 18,
   "id": "92017822-c30d-4877-bf65-0e5e53eaf7fb",
   "metadata": {
    "scrolled": true
   },
   "outputs": [
    {
     "name": "stdout",
     "output_type": "stream",
     "text": [
      "# 1. Ed Wood (film)\n",
      "\t1. Ed Wood is a 1994 American biographical period comedy-drama film directed and produced by Tim Burton, and starring Johnny Depp as cult filmmaker Ed Wood.\n",
      "\t2.  The film concerns the period in Wood's life when he made his best-known films as well as his relationship with actor Bela Lugosi, played by Martin Landau.\n",
      "\t3.  Sarah Jessica Parker, Patricia Arquette, Jeffrey Jones, Lisa Marie, and Bill Murray are among the supporting cast.\n",
      "\n",
      "\n",
      "# 2. Scott Derrickson\n",
      "\t1. Scott Derrickson (born July 16, 1966) is an American director, screenwriter and producer.\n",
      "\t2.  He lives in Los Angeles, California.\n",
      "\t3.  He is best known for directing horror films such as \"Sinister\", \"The Exorcism of Emily Rose\", and \"Deliver Us From Evil\", as well as the 2016 Marvel Cinematic Universe installment, \"Doctor Strange.\"\n",
      "\n",
      "\n",
      "# 3. Woodson, Arkansas\n",
      "\t1. Woodson is a census-designated place (CDP) in Pulaski County, Arkansas, in the United States.\n",
      "\t2.  Its population was 403 at the 2010 census.\n",
      "\t3.  It is part of the Little Rock–North Little Rock–Conway Metropolitan Statistical Area.\n",
      "\t4.  Woodson and its accompanying Woodson Lake and Wood Hollow are the namesake for Ed Wood Sr., a prominent plantation owner, trader, and businessman at the turn of the 20th century.\n",
      "\t5.  Woodson is adjacent to the Wood Plantation, the largest of the plantations own by Ed Wood Sr.\n",
      "\n",
      "\n",
      "# 4. Tyler Bates\n",
      "\t1. Tyler Bates (born June 5, 1965) is an American musician, music producer, and composer for films, television, and video games.\n",
      "\t2.  Much of his work is in the action and horror film genres, with films like \"Dawn of the Dead, 300, Sucker Punch,\" and \"John Wick.\"\n",
      "\t3.  He has collaborated with directors like Zack Snyder, Rob Zombie, Neil Marshall, William Friedkin, Scott Derrickson, and James Gunn.\n",
      "\t4.  With Gunn, he has scored every one of the director's films; including \"Guardians of the Galaxy\", which became one of the highest grossing domestic movies of 2014, and its 2017 sequel.\n",
      "\t5.  In addition, he is also the lead guitarist of the American rock band Marilyn Manson, and produced its albums \"The Pale Emperor\" and \"Heaven Upside Down\".\n",
      "\n",
      "\n",
      "# 5. Ed Wood\n",
      "\t1. Edward Davis Wood Jr. (October 10, 1924 – December 10, 1978) was an American filmmaker, actor, writer, producer, and director.\n",
      "\n",
      "\n",
      "# 6. Deliver Us from Evil (2014 film)\n",
      "\t1. Deliver Us from Evil is a 2014 American supernatural horror film directed by Scott Derrickson and produced by Jerry Bruckheimer.\n",
      "\t2.  The film is officially based on a 2001 non-fiction book entitled \"Beware the Night\" by Ralph Sarchie and Lisa Collier Cool, and its marketing campaign highlighted that it was \"inspired by actual accounts\".\n",
      "\t3.  The film stars Eric Bana, Édgar Ramírez, Sean Harris, Olivia Munn, and Joel McHale in the main roles and was released on July 2, 2014.\n",
      "\n",
      "\n",
      "# 7. Adam Collis\n",
      "\t1. Adam Collis is an American filmmaker and actor.\n",
      "\t2.  He attended the Duke University from 1986 to 1990 and the University of California, Los Angeles from 2007 to 2010.\n",
      "\t3.  He also studied cinema at the University of Southern California from 1991 to 1997.\n",
      "\t4.  Collis first work was the assistant director for the Scott Derrickson's short \"Love in the Ruins\" (1995).\n",
      "\t5.  In 1998, he played \"Crankshaft\" in Eric Koyanagi's \"Hundred Percent\".\n",
      "\n",
      "\n",
      "# 8. Sinister (film)\n",
      "\t1. Sinister is a 2012 supernatural horror film directed by Scott Derrickson and written by Derrickson and C. Robert Cargill.\n",
      "\t2.  It stars Ethan Hawke as fictional true-crime writer Ellison Oswalt who discovers a box of home movies in his attic that puts his family in danger.\n",
      "\n",
      "\n",
      "# 9. Conrad Brooks\n",
      "\t1. Conrad Brooks (born Conrad Biedrzycki on January 3, 1931 in Baltimore, Maryland) is an American actor.\n",
      "\t2.  He moved to Hollywood, California in 1948 to pursue a career in acting.\n",
      "\t3.  He got his start in movies appearing in Ed Wood films such as \"Plan 9 from Outer Space\", \"Glen or Glenda\", and \"Jail Bait.\"\n",
      "\t4.  He took a break from acting during the 1960s and 1970s but due to the ongoing interest in the films of Ed Wood, he reemerged in the 1980s and has become a prolific actor.\n",
      "\t5.  He also has since gone on to write, produce and direct several films.\n",
      "\n",
      "\n",
      "# 10. Doctor Strange (2016 film)\n",
      "\t1. Doctor Strange is a 2016 American superhero film based on the Marvel Comics character of the same name, produced by Marvel Studios and distributed by Walt Disney Studios Motion Pictures.\n",
      "\t2.  It is the fourteenth film of the Marvel Cinematic Universe (MCU).\n",
      "\t3.  The film was directed by Scott Derrickson, who wrote it with Jon Spaihts and C. Robert Cargill, and stars Benedict Cumberbatch as Stephen Strange, along with Chiwetel Ejiofor, Rachel McAdams, Benedict Wong, Michael Stuhlbarg, Benjamin Bratt, Scott Adkins, Mads Mikkelsen, and Tilda Swinton.\n",
      "\t4.  In \"Doctor Strange\", surgeon Strange learns the mystic arts after a career-ending car accident.\n",
      "\n",
      "\n"
     ]
    }
   ],
   "source": [
    "print(example_string)"
   ]
  },
  {
   "cell_type": "markdown",
   "id": "c9badb26-79ef-4a55-bca6-10ea19dd75b8",
   "metadata": {},
   "source": [
    "# Pandas"
   ]
  },
  {
   "cell_type": "code",
   "execution_count": 20,
   "id": "06fe38b2-7413-4fdd-bd51-79559e03c91b",
   "metadata": {},
   "outputs": [],
   "source": [
    "for single_json in hotpotqa_json:\n",
    "    single_json['context'] = json2string_hotpotqa(single_json)"
   ]
  },
  {
   "cell_type": "code",
   "execution_count": 22,
   "id": "caf78a93-9667-4e36-a143-6e2dff812521",
   "metadata": {},
   "outputs": [],
   "source": [
    "hotpotqa_df = pd.DataFrame(hotpotqa_json)"
   ]
  },
  {
   "cell_type": "code",
   "execution_count": 23,
   "id": "63674cd7-0ea5-4ea1-bd14-7e6978810f80",
   "metadata": {},
   "outputs": [
    {
     "name": "stdout",
     "output_type": "stream",
     "text": [
      "<class 'pandas.core.frame.DataFrame'>\n",
      "RangeIndex: 7405 entries, 0 to 7404\n",
      "Data columns (total 7 columns):\n",
      " #   Column            Non-Null Count  Dtype \n",
      "---  ------            --------------  ----- \n",
      " 0   _id               7405 non-null   object\n",
      " 1   answer            7405 non-null   object\n",
      " 2   question          7405 non-null   object\n",
      " 3   supporting_facts  7405 non-null   object\n",
      " 4   context           7405 non-null   object\n",
      " 5   type              7405 non-null   object\n",
      " 6   level             7405 non-null   object\n",
      "dtypes: object(7)\n",
      "memory usage: 405.1+ KB\n"
     ]
    }
   ],
   "source": [
    "hotpotqa_df.info()"
   ]
  },
  {
   "cell_type": "code",
   "execution_count": 24,
   "id": "7dd2a673-1de6-4711-a67c-f72974b9f7be",
   "metadata": {},
   "outputs": [
    {
     "data": {
      "text/html": [
       "<div>\n",
       "<style scoped>\n",
       "    .dataframe tbody tr th:only-of-type {\n",
       "        vertical-align: middle;\n",
       "    }\n",
       "\n",
       "    .dataframe tbody tr th {\n",
       "        vertical-align: top;\n",
       "    }\n",
       "\n",
       "    .dataframe thead th {\n",
       "        text-align: right;\n",
       "    }\n",
       "</style>\n",
       "<table border=\"1\" class=\"dataframe\">\n",
       "  <thead>\n",
       "    <tr style=\"text-align: right;\">\n",
       "      <th></th>\n",
       "      <th>_id</th>\n",
       "      <th>answer</th>\n",
       "      <th>question</th>\n",
       "      <th>supporting_facts</th>\n",
       "      <th>context</th>\n",
       "      <th>type</th>\n",
       "      <th>level</th>\n",
       "    </tr>\n",
       "  </thead>\n",
       "  <tbody>\n",
       "    <tr>\n",
       "      <th>0</th>\n",
       "      <td>5a8b57f25542995d1e6f1371</td>\n",
       "      <td>yes</td>\n",
       "      <td>Were Scott Derrickson and Ed Wood of the same ...</td>\n",
       "      <td>[[Scott Derrickson, 0], [Ed Wood, 0]]</td>\n",
       "      <td># 1. Ed Wood (film)\\n\\t1. Ed Wood is a 1994 Am...</td>\n",
       "      <td>comparison</td>\n",
       "      <td>hard</td>\n",
       "    </tr>\n",
       "    <tr>\n",
       "      <th>1</th>\n",
       "      <td>5a8c7595554299585d9e36b6</td>\n",
       "      <td>Chief of Protocol</td>\n",
       "      <td>What government position was held by the woman...</td>\n",
       "      <td>[[Kiss and Tell (1945 film), 0], [Shirley Temp...</td>\n",
       "      <td># 1. Meet Corliss Archer\\n\\t1. Meet Corliss Ar...</td>\n",
       "      <td>bridge</td>\n",
       "      <td>hard</td>\n",
       "    </tr>\n",
       "    <tr>\n",
       "      <th>2</th>\n",
       "      <td>5a85ea095542994775f606a8</td>\n",
       "      <td>Animorphs</td>\n",
       "      <td>What science fantasy young adult series, told ...</td>\n",
       "      <td>[[The Hork-Bajir Chronicles, 0], [The Hork-Baj...</td>\n",
       "      <td># 1. Andre Norton Award\\n\\t1. The Andre Norton...</td>\n",
       "      <td>bridge</td>\n",
       "      <td>hard</td>\n",
       "    </tr>\n",
       "    <tr>\n",
       "      <th>3</th>\n",
       "      <td>5adbf0a255429947ff17385a</td>\n",
       "      <td>no</td>\n",
       "      <td>Are the Laleli Mosque and Esma Sultan Mansion ...</td>\n",
       "      <td>[[Laleli Mosque, 0], [Esma Sultan Mansion, 0]]</td>\n",
       "      <td># 1. Esma Sultan (daughter of Abdülaziz)\\n\\t1....</td>\n",
       "      <td>comparison</td>\n",
       "      <td>hard</td>\n",
       "    </tr>\n",
       "    <tr>\n",
       "      <th>4</th>\n",
       "      <td>5a8e3ea95542995a26add48d</td>\n",
       "      <td>Greenwich Village, New York City</td>\n",
       "      <td>The director of the romantic comedy \"Big Stone...</td>\n",
       "      <td>[[Big Stone Gap (film), 0], [Adriana Trigiani,...</td>\n",
       "      <td># 1. Just Another Romantic Wrestling Comedy\\n\\...</td>\n",
       "      <td>bridge</td>\n",
       "      <td>hard</td>\n",
       "    </tr>\n",
       "  </tbody>\n",
       "</table>\n",
       "</div>"
      ],
      "text/plain": [
       "                        _id                            answer  \\\n",
       "0  5a8b57f25542995d1e6f1371                               yes   \n",
       "1  5a8c7595554299585d9e36b6                 Chief of Protocol   \n",
       "2  5a85ea095542994775f606a8                         Animorphs   \n",
       "3  5adbf0a255429947ff17385a                                no   \n",
       "4  5a8e3ea95542995a26add48d  Greenwich Village, New York City   \n",
       "\n",
       "                                            question  \\\n",
       "0  Were Scott Derrickson and Ed Wood of the same ...   \n",
       "1  What government position was held by the woman...   \n",
       "2  What science fantasy young adult series, told ...   \n",
       "3  Are the Laleli Mosque and Esma Sultan Mansion ...   \n",
       "4  The director of the romantic comedy \"Big Stone...   \n",
       "\n",
       "                                    supporting_facts  \\\n",
       "0              [[Scott Derrickson, 0], [Ed Wood, 0]]   \n",
       "1  [[Kiss and Tell (1945 film), 0], [Shirley Temp...   \n",
       "2  [[The Hork-Bajir Chronicles, 0], [The Hork-Baj...   \n",
       "3     [[Laleli Mosque, 0], [Esma Sultan Mansion, 0]]   \n",
       "4  [[Big Stone Gap (film), 0], [Adriana Trigiani,...   \n",
       "\n",
       "                                             context        type level  \n",
       "0  # 1. Ed Wood (film)\\n\\t1. Ed Wood is a 1994 Am...  comparison  hard  \n",
       "1  # 1. Meet Corliss Archer\\n\\t1. Meet Corliss Ar...      bridge  hard  \n",
       "2  # 1. Andre Norton Award\\n\\t1. The Andre Norton...      bridge  hard  \n",
       "3  # 1. Esma Sultan (daughter of Abdülaziz)\\n\\t1....  comparison  hard  \n",
       "4  # 1. Just Another Romantic Wrestling Comedy\\n\\...      bridge  hard  "
      ]
     },
     "execution_count": 24,
     "metadata": {},
     "output_type": "execute_result"
    }
   ],
   "source": [
    "hotpotqa_df.head()"
   ]
  },
  {
   "cell_type": "code",
   "execution_count": 26,
   "id": "575170aa-ab07-4c27-ba5a-04f73f431c78",
   "metadata": {},
   "outputs": [
    {
     "data": {
      "text/plain": [
       "type\n",
       "bridge        5918\n",
       "comparison    1487\n",
       "Name: count, dtype: int64"
      ]
     },
     "execution_count": 26,
     "metadata": {},
     "output_type": "execute_result"
    }
   ],
   "source": [
    "hotpotqa_df.type.value_counts()"
   ]
  },
  {
   "cell_type": "code",
   "execution_count": 27,
   "id": "0e5174ef-60e1-4fdf-820b-defe66a2db2a",
   "metadata": {},
   "outputs": [
    {
     "data": {
      "text/plain": [
       "level\n",
       "hard    7405\n",
       "Name: count, dtype: int64"
      ]
     },
     "execution_count": 27,
     "metadata": {},
     "output_type": "execute_result"
    }
   ],
   "source": [
    "hotpotqa_df.level.value_counts()"
   ]
  },
  {
   "cell_type": "code",
   "execution_count": 28,
   "id": "fe9b5143-72ba-4da8-9c56-5d115731c14f",
   "metadata": {},
   "outputs": [],
   "source": [
    "hotpotqa_df.to_csv('/root/llm_quant_safety/data/hotpotqa/hotpot_dev_distractor_v1.csv', index=False)"
   ]
  },
  {
   "cell_type": "code",
   "execution_count": 29,
   "id": "e40d7a73-ef33-4ada-a074-c7e20f2cd866",
   "metadata": {},
   "outputs": [],
   "source": [
    "hotpotqa_df.sample(50).to_csv('/root/llm_quant_safety/data/hotpotqa/hotpot_dev_distractor_v1_sample_50.csv', index=False)"
   ]
  },
  {
   "cell_type": "markdown",
   "id": "aad2d32e-7202-46ac-bdc1-ec3e6fbe8ab2",
   "metadata": {},
   "source": [
    "# Sort by length"
   ]
  },
  {
   "cell_type": "code",
   "execution_count": 31,
   "id": "ff49fdc1-b8b6-4081-9a72-71fd8a0a9bf2",
   "metadata": {},
   "outputs": [],
   "source": [
    "import pandas as pd\n",
    "from transformers import AutoTokenizer"
   ]
  },
  {
   "cell_type": "code",
   "execution_count": 34,
   "id": "fb2f6617-3a84-47f5-a19f-46527a8d1d40",
   "metadata": {},
   "outputs": [],
   "source": [
    "PROMPT_TEMPLATE = \"\"\"\n",
    "You are helpful AI assistant.\n",
    "Briefly answer the question based on provided info.\n",
    "\n",
    "# Information\n",
    "{INFO}\n",
    "\n",
    "# Question\n",
    "{QUESTION}\n",
    "\"\"\".strip()"
   ]
  },
  {
   "cell_type": "code",
   "execution_count": 33,
   "id": "8ba487ee-9967-443b-a041-0e00d7ee25e8",
   "metadata": {},
   "outputs": [
    {
     "name": "stdout",
     "output_type": "stream",
     "text": [
      "<class 'pandas.core.frame.DataFrame'>\n",
      "RangeIndex: 7405 entries, 0 to 7404\n",
      "Data columns (total 7 columns):\n",
      " #   Column            Non-Null Count  Dtype \n",
      "---  ------            --------------  ----- \n",
      " 0   _id               7405 non-null   object\n",
      " 1   answer            7405 non-null   object\n",
      " 2   question          7405 non-null   object\n",
      " 3   supporting_facts  7405 non-null   object\n",
      " 4   context           7405 non-null   object\n",
      " 5   type              7405 non-null   object\n",
      " 6   level             7405 non-null   object\n",
      "dtypes: object(7)\n",
      "memory usage: 405.1+ KB\n"
     ]
    }
   ],
   "source": [
    "df = pd.read_csv('/root/llm_quant_safety/data/hotpotqa/hotpot_dev_distractor_v1.csv')\n",
    "df.info()"
   ]
  },
  {
   "cell_type": "code",
   "execution_count": 37,
   "id": "5ccd4301-9379-4ba6-827b-ac5acc5173ba",
   "metadata": {},
   "outputs": [],
   "source": [
    "prompts = [\n",
    "    PROMPT_TEMPLATE.format(\n",
    "        INFO=row[\"context\"], \n",
    "        QUESTION=row[\"question\"], \n",
    "    ) for idx, row in df.iterrows()\n",
    "]"
   ]
  },
  {
   "cell_type": "code",
   "execution_count": 47,
   "id": "2ef6e247-6df9-44da-baf4-e8032fd0c911",
   "metadata": {},
   "outputs": [],
   "source": [
    "import pandas as pd\n",
    "import numpy as np\n",
    "\n",
    "# Предполагаем, что df_sort - это ваш отсортированный датафрейм\n",
    "\n",
    "def split_dataset(df, column='tokenized_len', parts=3):\n",
    "    total_sum = df[column].sum()\n",
    "    target_sum = total_sum / parts\n",
    "    \n",
    "    split_indices = []\n",
    "    current_sum = 0\n",
    "    current_part = 0\n",
    "    \n",
    "    for i, value in enumerate(df[column]):\n",
    "        current_sum += value\n",
    "        if current_sum >= target_sum and current_part < parts - 1:\n",
    "            split_indices.append(i)\n",
    "            current_sum = 0\n",
    "            current_part += 1\n",
    "    \n",
    "    dataset_parts = []\n",
    "    start = 0\n",
    "    for end in split_indices:\n",
    "        dataset_parts.append(df.iloc[start:end])\n",
    "        start = end\n",
    "    dataset_parts.append(df.iloc[start:]) \n",
    "    \n",
    "    return dataset_parts"
   ]
  },
  {
   "cell_type": "markdown",
   "id": "984f40ce-c18e-4cea-b25c-f44a84242da7",
   "metadata": {},
   "source": [
    "## Llama"
   ]
  },
  {
   "cell_type": "code",
   "execution_count": 32,
   "id": "a50a9708-8eef-42b9-9477-21b5e811508d",
   "metadata": {},
   "outputs": [],
   "source": [
    "# model_name = \"kharinaev/Llama-3.1-8B-Instruct-quip\"\n",
    "# model_name = '/root/llm_quant_safety/quantization/models/Mistral-7B-Instruct-v0.2-quip-2bit'\n",
    "model_name = '/root/llm_quant_safety/quantization/models/Llama-3.1-8B-Instruct-quip-2bit/'\n",
    "tokenizer = AutoTokenizer.from_pretrained(model_name)\n",
    "# tokenizer.add_special_tokens({'pad_token': '<|eot_id|>'}) # LLAMA\n",
    "tokenizer.pad_token = tokenizer.eos_token"
   ]
  },
  {
   "cell_type": "code",
   "execution_count": 40,
   "id": "ff378045-1456-499d-8674-c1a0bf46481d",
   "metadata": {},
   "outputs": [
    {
     "data": {
      "application/vnd.jupyter.widget-view+json": {
       "model_id": "bdb8216c1e8f482baca365875ba7062b",
       "version_major": 2,
       "version_minor": 0
      },
      "text/plain": [
       "  0%|          | 0/7405 [00:00<?, ?it/s]"
      ]
     },
     "metadata": {},
     "output_type": "display_data"
    }
   ],
   "source": [
    "tokenized = [\n",
    "    tokenizer.apply_chat_template(\n",
    "        [{\"role\": \"user\", \"content\": prompt}], \n",
    "        tokenize=True, \n",
    "        add_generation_prompt=True\n",
    "    ) for prompt in tqdm(prompts)\n",
    "]"
   ]
  },
  {
   "cell_type": "code",
   "execution_count": 42,
   "id": "0385b1c0-5c2f-4ff5-b7c5-0505bbaa03da",
   "metadata": {
    "scrolled": true
   },
   "outputs": [
    {
     "data": {
      "text/plain": [
       "count    7405.000000\n",
       "mean     1557.559622\n",
       "std       376.207322\n",
       "min       135.000000\n",
       "25%      1316.000000\n",
       "50%      1527.000000\n",
       "75%      1767.000000\n",
       "max      4057.000000\n",
       "Name: tokenized_len, dtype: float64"
      ]
     },
     "execution_count": 42,
     "metadata": {},
     "output_type": "execute_result"
    }
   ],
   "source": [
    "df['tokenized_len'] = [len(t) for t in tokenized]\n",
    "df['tokenized_len'].describe()"
   ]
  },
  {
   "cell_type": "code",
   "execution_count": 43,
   "id": "cbe18a1f-2d1f-46fe-8a35-60f5d7ed2620",
   "metadata": {},
   "outputs": [],
   "source": [
    "df_sort = df.sort_values('tokenized_len')"
   ]
  },
  {
   "cell_type": "code",
   "execution_count": 44,
   "id": "30c82a34-8791-4ba5-be97-e8a289a8e78f",
   "metadata": {},
   "outputs": [
    {
     "data": {
      "text/plain": [
       "11533729"
      ]
     },
     "execution_count": 44,
     "metadata": {},
     "output_type": "execute_result"
    }
   ],
   "source": [
    "sum_token_len = df_sort.tokenized_len.sum()\n",
    "sum_token_len"
   ]
  },
  {
   "cell_type": "code",
   "execution_count": 45,
   "id": "d8ea2bb5-88f2-44b0-8708-2d535b726126",
   "metadata": {},
   "outputs": [
    {
     "data": {
      "text/plain": [
       "3844576"
      ]
     },
     "execution_count": 45,
     "metadata": {},
     "output_type": "execute_result"
    }
   ],
   "source": [
    "sum_token_len // 3"
   ]
  },
  {
   "cell_type": "code",
   "execution_count": 48,
   "id": "dad3040c-5a7b-4a01-993a-554722a0fefb",
   "metadata": {},
   "outputs": [
    {
     "name": "stdout",
     "output_type": "stream",
     "text": [
      "Part 1:\n",
      "  Rows: 3120\n",
      "  Sum of tokenized_len: 3843586\n",
      "\n",
      "Part 2:\n",
      "  Rows: 2399\n",
      "  Sum of tokenized_len: 3845688\n",
      "\n",
      "Part 3:\n",
      "  Rows: 1886\n",
      "  Sum of tokenized_len: 3844455\n",
      "\n"
     ]
    }
   ],
   "source": [
    "parts = split_dataset(df_sort)\n",
    "\n",
    "for i, part in enumerate(parts):\n",
    "    print(f\"Part {i+1}:\")\n",
    "    print(f\"  Rows: {len(part)}\")\n",
    "    print(f\"  Sum of tokenized_len: {part['tokenized_len'].sum()}\")\n",
    "    print()"
   ]
  },
  {
   "cell_type": "code",
   "execution_count": 49,
   "id": "52c5f28c-affc-4b32-b919-68e290c6b857",
   "metadata": {},
   "outputs": [],
   "source": [
    "for i in range(3):\n",
    "    parts[i].sort_values('tokenized_len').to_csv(f'/root/llm_quant_safety/data/hotpotqa/parts/llama_p{i}.csv', index=False)"
   ]
  },
  {
   "cell_type": "code",
   "execution_count": 50,
   "id": "24775db3-965b-4d9d-ba9b-9ce83e8c9a1b",
   "metadata": {
    "scrolled": true
   },
   "outputs": [
    {
     "name": "stdout",
     "output_type": "stream",
     "text": [
      "<class 'pandas.core.frame.DataFrame'>\n",
      "RangeIndex: 3120 entries, 0 to 3119\n",
      "Data columns (total 8 columns):\n",
      " #   Column            Non-Null Count  Dtype \n",
      "---  ------            --------------  ----- \n",
      " 0   _id               3120 non-null   object\n",
      " 1   answer            3120 non-null   object\n",
      " 2   question          3120 non-null   object\n",
      " 3   supporting_facts  3120 non-null   object\n",
      " 4   context           3120 non-null   object\n",
      " 5   type              3120 non-null   object\n",
      " 6   level             3120 non-null   object\n",
      " 7   tokenized_len     3120 non-null   int64 \n",
      "dtypes: int64(1), object(7)\n",
      "memory usage: 195.1+ KB\n"
     ]
    },
    {
     "data": {
      "text/plain": [
       "None"
      ]
     },
     "metadata": {},
     "output_type": "display_data"
    },
    {
     "name": "stdout",
     "output_type": "stream",
     "text": [
      "<class 'pandas.core.frame.DataFrame'>\n",
      "RangeIndex: 2399 entries, 0 to 2398\n",
      "Data columns (total 8 columns):\n",
      " #   Column            Non-Null Count  Dtype \n",
      "---  ------            --------------  ----- \n",
      " 0   _id               2399 non-null   object\n",
      " 1   answer            2399 non-null   object\n",
      " 2   question          2399 non-null   object\n",
      " 3   supporting_facts  2399 non-null   object\n",
      " 4   context           2399 non-null   object\n",
      " 5   type              2399 non-null   object\n",
      " 6   level             2399 non-null   object\n",
      " 7   tokenized_len     2399 non-null   int64 \n",
      "dtypes: int64(1), object(7)\n",
      "memory usage: 150.1+ KB\n"
     ]
    },
    {
     "data": {
      "text/plain": [
       "None"
      ]
     },
     "metadata": {},
     "output_type": "display_data"
    },
    {
     "name": "stdout",
     "output_type": "stream",
     "text": [
      "<class 'pandas.core.frame.DataFrame'>\n",
      "RangeIndex: 1886 entries, 0 to 1885\n",
      "Data columns (total 8 columns):\n",
      " #   Column            Non-Null Count  Dtype \n",
      "---  ------            --------------  ----- \n",
      " 0   _id               1886 non-null   object\n",
      " 1   answer            1886 non-null   object\n",
      " 2   question          1886 non-null   object\n",
      " 3   supporting_facts  1886 non-null   object\n",
      " 4   context           1886 non-null   object\n",
      " 5   type              1886 non-null   object\n",
      " 6   level             1886 non-null   object\n",
      " 7   tokenized_len     1886 non-null   int64 \n",
      "dtypes: int64(1), object(7)\n",
      "memory usage: 118.0+ KB\n"
     ]
    },
    {
     "data": {
      "text/plain": [
       "None"
      ]
     },
     "metadata": {},
     "output_type": "display_data"
    }
   ],
   "source": [
    "for i in range(3):\n",
    "    display(pd.read_csv(f'/root/llm_quant_safety/data/hotpotqa/parts/llama_p{i}.csv').info())"
   ]
  },
  {
   "cell_type": "markdown",
   "id": "bae0f267-0eb7-4244-8ff2-3bd2c8df3457",
   "metadata": {},
   "source": [
    "## Mistral"
   ]
  },
  {
   "cell_type": "code",
   "execution_count": 51,
   "id": "3521001b-a846-4d4e-af72-fbddb88e51e7",
   "metadata": {},
   "outputs": [],
   "source": [
    "model_name = '/root/llm_quant_safety/quantization/models/Mistral-7B-Instruct-v0.2-quip-2bit'\n",
    "# model_name = '/root/llm_quant_safety/quantization/models/Llama-3.1-8B-Instruct-quip-2bit/'\n",
    "tokenizer = AutoTokenizer.from_pretrained(model_name)\n",
    "tokenizer.pad_token = tokenizer.eos_token"
   ]
  },
  {
   "cell_type": "code",
   "execution_count": 52,
   "id": "5e59d434-1c81-4733-931c-bad800bd7c07",
   "metadata": {},
   "outputs": [
    {
     "data": {
      "application/vnd.jupyter.widget-view+json": {
       "model_id": "b10b2f369bb54be79b243d2ae0391cf1",
       "version_major": 2,
       "version_minor": 0
      },
      "text/plain": [
       "  0%|          | 0/7405 [00:00<?, ?it/s]"
      ]
     },
     "metadata": {},
     "output_type": "display_data"
    }
   ],
   "source": [
    "tokenized = [\n",
    "    tokenizer.apply_chat_template(\n",
    "        [{\"role\": \"user\", \"content\": prompt}], \n",
    "        tokenize=True, \n",
    "        add_generation_prompt=True\n",
    "    ) for prompt in tqdm(prompts)\n",
    "]"
   ]
  },
  {
   "cell_type": "code",
   "execution_count": 53,
   "id": "d5a6172b-95ca-4872-bb9a-6fb6d0d1338b",
   "metadata": {
    "scrolled": true
   },
   "outputs": [
    {
     "data": {
      "text/plain": [
       "count    7405.000000\n",
       "mean     1821.815260\n",
       "std       437.435342\n",
       "min       153.000000\n",
       "25%      1538.000000\n",
       "50%      1786.000000\n",
       "75%      2068.000000\n",
       "max      4741.000000\n",
       "Name: tokenized_len, dtype: float64"
      ]
     },
     "execution_count": 53,
     "metadata": {},
     "output_type": "execute_result"
    }
   ],
   "source": [
    "df['tokenized_len'] = [len(t) for t in tokenized]\n",
    "df['tokenized_len'].describe()"
   ]
  },
  {
   "cell_type": "code",
   "execution_count": 54,
   "id": "dbdd8e68-10d2-484a-81b5-a3132fdacb4f",
   "metadata": {},
   "outputs": [],
   "source": [
    "df_sort = df.sort_values('tokenized_len')"
   ]
  },
  {
   "cell_type": "code",
   "execution_count": 55,
   "id": "e22b08a8-3352-4024-9d80-8f130dc39dec",
   "metadata": {},
   "outputs": [
    {
     "data": {
      "text/plain": [
       "13490542"
      ]
     },
     "execution_count": 55,
     "metadata": {},
     "output_type": "execute_result"
    }
   ],
   "source": [
    "sum_token_len = df_sort.tokenized_len.sum()\n",
    "sum_token_len"
   ]
  },
  {
   "cell_type": "code",
   "execution_count": 56,
   "id": "b9e0fb4f-b146-4b43-96fd-7b843d4501b2",
   "metadata": {},
   "outputs": [
    {
     "data": {
      "text/plain": [
       "4496847"
      ]
     },
     "execution_count": 56,
     "metadata": {},
     "output_type": "execute_result"
    }
   ],
   "source": [
    "sum_token_len // 3"
   ]
  },
  {
   "cell_type": "code",
   "execution_count": 57,
   "id": "b65bc3ad-f9a9-4e07-b9a5-237e7e0752ee",
   "metadata": {},
   "outputs": [
    {
     "name": "stdout",
     "output_type": "stream",
     "text": [
      "Part 1:\n",
      "  Rows: 3115\n",
      "  Sum of tokenized_len: 4495709\n",
      "\n",
      "Part 2:\n",
      "  Rows: 2401\n",
      "  Sum of tokenized_len: 4498413\n",
      "\n",
      "Part 3:\n",
      "  Rows: 1889\n",
      "  Sum of tokenized_len: 4496420\n",
      "\n"
     ]
    }
   ],
   "source": [
    "parts = split_dataset(df_sort)\n",
    "\n",
    "for i, part in enumerate(parts):\n",
    "    print(f\"Part {i+1}:\")\n",
    "    print(f\"  Rows: {len(part)}\")\n",
    "    print(f\"  Sum of tokenized_len: {part['tokenized_len'].sum()}\")\n",
    "    print()"
   ]
  },
  {
   "cell_type": "code",
   "execution_count": 58,
   "id": "40765748-3231-442b-bf30-d8d6c82a3aec",
   "metadata": {},
   "outputs": [],
   "source": [
    "for i in range(3):\n",
    "    parts[i].sort_values('tokenized_len').to_csv(f'/root/llm_quant_safety/data/hotpotqa/parts/mistral_p{i}.csv', index=False)"
   ]
  },
  {
   "cell_type": "code",
   "execution_count": 59,
   "id": "a357a3f8-197a-4cee-af3e-87bc1f3e2d46",
   "metadata": {
    "scrolled": true
   },
   "outputs": [
    {
     "name": "stdout",
     "output_type": "stream",
     "text": [
      "<class 'pandas.core.frame.DataFrame'>\n",
      "RangeIndex: 3115 entries, 0 to 3114\n",
      "Data columns (total 8 columns):\n",
      " #   Column            Non-Null Count  Dtype \n",
      "---  ------            --------------  ----- \n",
      " 0   _id               3115 non-null   object\n",
      " 1   answer            3115 non-null   object\n",
      " 2   question          3115 non-null   object\n",
      " 3   supporting_facts  3115 non-null   object\n",
      " 4   context           3115 non-null   object\n",
      " 5   type              3115 non-null   object\n",
      " 6   level             3115 non-null   object\n",
      " 7   tokenized_len     3115 non-null   int64 \n",
      "dtypes: int64(1), object(7)\n",
      "memory usage: 194.8+ KB\n"
     ]
    },
    {
     "data": {
      "text/plain": [
       "None"
      ]
     },
     "metadata": {},
     "output_type": "display_data"
    },
    {
     "name": "stdout",
     "output_type": "stream",
     "text": [
      "<class 'pandas.core.frame.DataFrame'>\n",
      "RangeIndex: 2401 entries, 0 to 2400\n",
      "Data columns (total 8 columns):\n",
      " #   Column            Non-Null Count  Dtype \n",
      "---  ------            --------------  ----- \n",
      " 0   _id               2401 non-null   object\n",
      " 1   answer            2401 non-null   object\n",
      " 2   question          2401 non-null   object\n",
      " 3   supporting_facts  2401 non-null   object\n",
      " 4   context           2401 non-null   object\n",
      " 5   type              2401 non-null   object\n",
      " 6   level             2401 non-null   object\n",
      " 7   tokenized_len     2401 non-null   int64 \n",
      "dtypes: int64(1), object(7)\n",
      "memory usage: 150.2+ KB\n"
     ]
    },
    {
     "data": {
      "text/plain": [
       "None"
      ]
     },
     "metadata": {},
     "output_type": "display_data"
    },
    {
     "name": "stdout",
     "output_type": "stream",
     "text": [
      "<class 'pandas.core.frame.DataFrame'>\n",
      "RangeIndex: 1889 entries, 0 to 1888\n",
      "Data columns (total 8 columns):\n",
      " #   Column            Non-Null Count  Dtype \n",
      "---  ------            --------------  ----- \n",
      " 0   _id               1889 non-null   object\n",
      " 1   answer            1889 non-null   object\n",
      " 2   question          1889 non-null   object\n",
      " 3   supporting_facts  1889 non-null   object\n",
      " 4   context           1889 non-null   object\n",
      " 5   type              1889 non-null   object\n",
      " 6   level             1889 non-null   object\n",
      " 7   tokenized_len     1889 non-null   int64 \n",
      "dtypes: int64(1), object(7)\n",
      "memory usage: 118.2+ KB\n"
     ]
    },
    {
     "data": {
      "text/plain": [
       "None"
      ]
     },
     "metadata": {},
     "output_type": "display_data"
    }
   ],
   "source": [
    "for i in range(3):\n",
    "    display(pd.read_csv(f'/root/llm_quant_safety/data/hotpotqa/parts/mistral_p{i}.csv').info())"
   ]
  },
  {
   "cell_type": "code",
   "execution_count": null,
   "id": "882c2fe5-0ee3-42eb-acb8-6a366b16972b",
   "metadata": {},
   "outputs": [],
   "source": []
  },
  {
   "cell_type": "code",
   "execution_count": null,
   "id": "d3e0969e-0cf6-4323-b0bf-7a29932e5be9",
   "metadata": {},
   "outputs": [],
   "source": []
  },
  {
   "cell_type": "code",
   "execution_count": null,
   "id": "318160a1-51e9-4ef5-bb97-f2dd8167d539",
   "metadata": {},
   "outputs": [],
   "source": []
  },
  {
   "cell_type": "markdown",
   "id": "04ab567d-25c7-4cfa-b67b-21fee1a9b682",
   "metadata": {},
   "source": [
    "# Fix CUDA out of memory for last examples"
   ]
  },
  {
   "cell_type": "code",
   "execution_count": 60,
   "id": "59713671-daf6-4c4b-b96e-d847d15b50d8",
   "metadata": {},
   "outputs": [
    {
     "name": "stdout",
     "output_type": "stream",
     "text": [
      "<class 'pandas.core.frame.DataFrame'>\n",
      "RangeIndex: 1886 entries, 0 to 1885\n",
      "Data columns (total 9 columns):\n",
      " #   Column            Non-Null Count  Dtype \n",
      "---  ------            --------------  ----- \n",
      " 0   _id               1886 non-null   object\n",
      " 1   answer            1886 non-null   object\n",
      " 2   question          1886 non-null   object\n",
      " 3   supporting_facts  1886 non-null   object\n",
      " 4   context           1886 non-null   object\n",
      " 5   type              1886 non-null   object\n",
      " 6   level             1886 non-null   object\n",
      " 7   tokenized_len     1886 non-null   int64 \n",
      " 8   llm_responses     1872 non-null   object\n",
      "dtypes: int64(1), object(8)\n",
      "memory usage: 132.7+ KB\n"
     ]
    }
   ],
   "source": [
    "df_p2 = pd.read_csv('/root/llm_quant_safety/data/hotpotqa/responses/parts/llama_quip2_p2.csv')\n",
    "df_p2.info()"
   ]
  },
  {
   "cell_type": "code",
   "execution_count": 62,
   "id": "10cdfb3c-0767-4030-9645-f1db96c7b2bb",
   "metadata": {},
   "outputs": [],
   "source": [
    "df_p2_undone = df_p2.iloc[1872:]"
   ]
  },
  {
   "cell_type": "code",
   "execution_count": 63,
   "id": "ea452be1-11d0-472e-a06d-1cd155c3ec53",
   "metadata": {},
   "outputs": [
    {
     "name": "stdout",
     "output_type": "stream",
     "text": [
      "<class 'pandas.core.frame.DataFrame'>\n",
      "RangeIndex: 14 entries, 1872 to 1885\n",
      "Data columns (total 9 columns):\n",
      " #   Column            Non-Null Count  Dtype \n",
      "---  ------            --------------  ----- \n",
      " 0   _id               14 non-null     object\n",
      " 1   answer            14 non-null     object\n",
      " 2   question          14 non-null     object\n",
      " 3   supporting_facts  14 non-null     object\n",
      " 4   context           14 non-null     object\n",
      " 5   type              14 non-null     object\n",
      " 6   level             14 non-null     object\n",
      " 7   tokenized_len     14 non-null     int64 \n",
      " 8   llm_responses     0 non-null      object\n",
      "dtypes: int64(1), object(8)\n",
      "memory usage: 1.1+ KB\n"
     ]
    }
   ],
   "source": [
    "df_p2_undone.info()"
   ]
  },
  {
   "cell_type": "code",
   "execution_count": 65,
   "id": "ced41387-32c1-4f44-8966-af6900c0bfca",
   "metadata": {},
   "outputs": [],
   "source": [
    "df_p2_undone.to_csv('/root/llm_quant_safety/data/hotpotqa/responses/parts/llama_quip2_p3.csv', index=False)"
   ]
  },
  {
   "cell_type": "code",
   "execution_count": 66,
   "id": "a587847c-b24a-46e9-9e79-b11ef794a5fc",
   "metadata": {},
   "outputs": [
    {
     "name": "stdout",
     "output_type": "stream",
     "text": [
      "<class 'pandas.core.frame.DataFrame'>\n",
      "RangeIndex: 1872 entries, 0 to 1871\n",
      "Data columns (total 8 columns):\n",
      " #   Column            Non-Null Count  Dtype \n",
      "---  ------            --------------  ----- \n",
      " 0   _id               1872 non-null   object\n",
      " 1   answer            1872 non-null   object\n",
      " 2   question          1872 non-null   object\n",
      " 3   supporting_facts  1872 non-null   object\n",
      " 4   context           1872 non-null   object\n",
      " 5   type              1872 non-null   object\n",
      " 6   level             1872 non-null   object\n",
      " 7   tokenized_len     1872 non-null   int64 \n",
      "dtypes: int64(1), object(7)\n",
      "memory usage: 117.1+ KB\n"
     ]
    }
   ],
   "source": [
    "df.iloc[:1872].info()"
   ]
  },
  {
   "cell_type": "code",
   "execution_count": 67,
   "id": "076804a5-0d29-4614-8d61-39f9e0911dfc",
   "metadata": {},
   "outputs": [],
   "source": [
    "df.iloc[:1872].to_csv('/root/llm_quant_safety/data/hotpotqa/responses/parts/llama_quip2_p2.csv', index=False)"
   ]
  },
  {
   "cell_type": "code",
   "execution_count": null,
   "id": "2bc09acd-be6b-469b-8d74-4f693e0753c6",
   "metadata": {},
   "outputs": [],
   "source": []
  },
  {
   "cell_type": "code",
   "execution_count": null,
   "id": "832c23bf-cc06-4466-96b3-9e5dc5b3fec0",
   "metadata": {},
   "outputs": [],
   "source": []
  },
  {
   "cell_type": "code",
   "execution_count": null,
   "id": "c1787825-699c-4a71-91af-87d73347f4fd",
   "metadata": {},
   "outputs": [],
   "source": []
  },
  {
   "cell_type": "code",
   "execution_count": null,
   "id": "0a911da0-f312-4a48-a5ab-ac50b0cde763",
   "metadata": {},
   "outputs": [],
   "source": []
  },
  {
   "cell_type": "markdown",
   "id": "64f26fcb-57a6-464a-af38-309e1df9be25",
   "metadata": {},
   "source": [
    "# Add jsons for hallu eval"
   ]
  },
  {
   "cell_type": "code",
   "execution_count": 68,
   "id": "2d509fb0-7037-442b-8a26-ad7c9229b094",
   "metadata": {},
   "outputs": [],
   "source": [
    "with open('/root/llm_quant_safety/data/hotpotqa/hotpot_dev_distractor_v1.json', 'r') as f:\n",
    "    hotpotqa_json = json.load(f)"
   ]
  },
  {
   "cell_type": "code",
   "execution_count": 69,
   "id": "5dedef0b-cf1e-4cc2-8237-113b6f0b0706",
   "metadata": {},
   "outputs": [
    {
     "data": {
      "text/plain": [
       "7405"
      ]
     },
     "execution_count": 69,
     "metadata": {},
     "output_type": "execute_result"
    }
   ],
   "source": [
    "len(hotpotqa_json)"
   ]
  },
  {
   "cell_type": "code",
   "execution_count": 70,
   "id": "ac55690a-31a6-42c5-960f-7f0f2a7d317e",
   "metadata": {
    "scrolled": true
   },
   "outputs": [
    {
     "data": {
      "text/plain": [
       "{'_id': '5a8b57f25542995d1e6f1371',\n",
       " 'answer': 'yes',\n",
       " 'question': 'Were Scott Derrickson and Ed Wood of the same nationality?',\n",
       " 'supporting_facts': [['Scott Derrickson', 0], ['Ed Wood', 0]],\n",
       " 'context': [['Ed Wood (film)',\n",
       "   ['Ed Wood is a 1994 American biographical period comedy-drama film directed and produced by Tim Burton, and starring Johnny Depp as cult filmmaker Ed Wood.',\n",
       "    \" The film concerns the period in Wood's life when he made his best-known films as well as his relationship with actor Bela Lugosi, played by Martin Landau.\",\n",
       "    ' Sarah Jessica Parker, Patricia Arquette, Jeffrey Jones, Lisa Marie, and Bill Murray are among the supporting cast.']],\n",
       "  ['Scott Derrickson',\n",
       "   ['Scott Derrickson (born July 16, 1966) is an American director, screenwriter and producer.',\n",
       "    ' He lives in Los Angeles, California.',\n",
       "    ' He is best known for directing horror films such as \"Sinister\", \"The Exorcism of Emily Rose\", and \"Deliver Us From Evil\", as well as the 2016 Marvel Cinematic Universe installment, \"Doctor Strange.\"']],\n",
       "  ['Woodson, Arkansas',\n",
       "   ['Woodson is a census-designated place (CDP) in Pulaski County, Arkansas, in the United States.',\n",
       "    ' Its population was 403 at the 2010 census.',\n",
       "    ' It is part of the Little Rock–North Little Rock–Conway Metropolitan Statistical Area.',\n",
       "    ' Woodson and its accompanying Woodson Lake and Wood Hollow are the namesake for Ed Wood Sr., a prominent plantation owner, trader, and businessman at the turn of the 20th century.',\n",
       "    ' Woodson is adjacent to the Wood Plantation, the largest of the plantations own by Ed Wood Sr.']],\n",
       "  ['Tyler Bates',\n",
       "   ['Tyler Bates (born June 5, 1965) is an American musician, music producer, and composer for films, television, and video games.',\n",
       "    ' Much of his work is in the action and horror film genres, with films like \"Dawn of the Dead, 300, Sucker Punch,\" and \"John Wick.\"',\n",
       "    ' He has collaborated with directors like Zack Snyder, Rob Zombie, Neil Marshall, William Friedkin, Scott Derrickson, and James Gunn.',\n",
       "    ' With Gunn, he has scored every one of the director\\'s films; including \"Guardians of the Galaxy\", which became one of the highest grossing domestic movies of 2014, and its 2017 sequel.',\n",
       "    ' In addition, he is also the lead guitarist of the American rock band Marilyn Manson, and produced its albums \"The Pale Emperor\" and \"Heaven Upside Down\".']],\n",
       "  ['Ed Wood',\n",
       "   ['Edward Davis Wood Jr. (October 10, 1924 – December 10, 1978) was an American filmmaker, actor, writer, producer, and director.']],\n",
       "  ['Deliver Us from Evil (2014 film)',\n",
       "   ['Deliver Us from Evil is a 2014 American supernatural horror film directed by Scott Derrickson and produced by Jerry Bruckheimer.',\n",
       "    ' The film is officially based on a 2001 non-fiction book entitled \"Beware the Night\" by Ralph Sarchie and Lisa Collier Cool, and its marketing campaign highlighted that it was \"inspired by actual accounts\".',\n",
       "    ' The film stars Eric Bana, Édgar Ramírez, Sean Harris, Olivia Munn, and Joel McHale in the main roles and was released on July 2, 2014.']],\n",
       "  ['Adam Collis',\n",
       "   ['Adam Collis is an American filmmaker and actor.',\n",
       "    ' He attended the Duke University from 1986 to 1990 and the University of California, Los Angeles from 2007 to 2010.',\n",
       "    ' He also studied cinema at the University of Southern California from 1991 to 1997.',\n",
       "    ' Collis first work was the assistant director for the Scott Derrickson\\'s short \"Love in the Ruins\" (1995).',\n",
       "    ' In 1998, he played \"Crankshaft\" in Eric Koyanagi\\'s \"Hundred Percent\".']],\n",
       "  ['Sinister (film)',\n",
       "   ['Sinister is a 2012 supernatural horror film directed by Scott Derrickson and written by Derrickson and C. Robert Cargill.',\n",
       "    ' It stars Ethan Hawke as fictional true-crime writer Ellison Oswalt who discovers a box of home movies in his attic that puts his family in danger.']],\n",
       "  ['Conrad Brooks',\n",
       "   ['Conrad Brooks (born Conrad Biedrzycki on January 3, 1931 in Baltimore, Maryland) is an American actor.',\n",
       "    ' He moved to Hollywood, California in 1948 to pursue a career in acting.',\n",
       "    ' He got his start in movies appearing in Ed Wood films such as \"Plan 9 from Outer Space\", \"Glen or Glenda\", and \"Jail Bait.\"',\n",
       "    ' He took a break from acting during the 1960s and 1970s but due to the ongoing interest in the films of Ed Wood, he reemerged in the 1980s and has become a prolific actor.',\n",
       "    ' He also has since gone on to write, produce and direct several films.']],\n",
       "  ['Doctor Strange (2016 film)',\n",
       "   ['Doctor Strange is a 2016 American superhero film based on the Marvel Comics character of the same name, produced by Marvel Studios and distributed by Walt Disney Studios Motion Pictures.',\n",
       "    ' It is the fourteenth film of the Marvel Cinematic Universe (MCU).',\n",
       "    ' The film was directed by Scott Derrickson, who wrote it with Jon Spaihts and C. Robert Cargill, and stars Benedict Cumberbatch as Stephen Strange, along with Chiwetel Ejiofor, Rachel McAdams, Benedict Wong, Michael Stuhlbarg, Benjamin Bratt, Scott Adkins, Mads Mikkelsen, and Tilda Swinton.',\n",
       "    ' In \"Doctor Strange\", surgeon Strange learns the mystic arts after a career-ending car accident.']]],\n",
       " 'type': 'comparison',\n",
       " 'level': 'hard'}"
      ]
     },
     "execution_count": 70,
     "metadata": {},
     "output_type": "execute_result"
    }
   ],
   "source": [
    "hotpotqa_json[0]"
   ]
  },
  {
   "cell_type": "code",
   "execution_count": 77,
   "id": "1b1d9be8-c4af-4386-b44f-77b02102e6fb",
   "metadata": {},
   "outputs": [
    {
     "data": {
      "text/plain": [
       "['Ed Wood (film)',\n",
       " ['Ed Wood is a 1994 American biographical period comedy-drama film directed and produced by Tim Burton, and starring Johnny Depp as cult filmmaker Ed Wood.',\n",
       "  \" The film concerns the period in Wood's life when he made his best-known films as well as his relationship with actor Bela Lugosi, played by Martin Landau.\",\n",
       "  ' Sarah Jessica Parker, Patricia Arquette, Jeffrey Jones, Lisa Marie, and Bill Murray are among the supporting cast.']]"
      ]
     },
     "execution_count": 77,
     "metadata": {},
     "output_type": "execute_result"
    }
   ],
   "source": [
    "hotpotqa_json[0]['context'][0]"
   ]
  },
  {
   "cell_type": "code",
   "execution_count": 73,
   "id": "e70b0d1a-dab6-4b32-ae0d-0fa188653b97",
   "metadata": {},
   "outputs": [],
   "source": [
    "id2json = {}"
   ]
  },
  {
   "cell_type": "code",
   "execution_count": 78,
   "id": "07ac9862-795c-433a-be58-7f0234ededa8",
   "metadata": {},
   "outputs": [],
   "source": [
    "for record in hotpotqa_json:\n",
    "    id2json[record['_id']] = record['context']"
   ]
  },
  {
   "cell_type": "code",
   "execution_count": 71,
   "id": "c5549fe2-869c-43f4-bf04-492d5a41505e",
   "metadata": {},
   "outputs": [
    {
     "name": "stdout",
     "output_type": "stream",
     "text": [
      "<class 'pandas.core.frame.DataFrame'>\n",
      "RangeIndex: 7405 entries, 0 to 7404\n",
      "Data columns (total 8 columns):\n",
      " #   Column            Non-Null Count  Dtype \n",
      "---  ------            --------------  ----- \n",
      " 0   _id               7405 non-null   object\n",
      " 1   answer            7405 non-null   object\n",
      " 2   question          7405 non-null   object\n",
      " 3   supporting_facts  7405 non-null   object\n",
      " 4   context           7405 non-null   object\n",
      " 5   type              7405 non-null   object\n",
      " 6   level             7405 non-null   object\n",
      " 7   llm_responses     7405 non-null   object\n",
      "dtypes: object(8)\n",
      "memory usage: 462.9+ KB\n"
     ]
    }
   ],
   "source": [
    "df_abl = pd.read_csv('/root/llm_quant_safety/data/hotpotqa/responses/llama_abl.csv')\n",
    "df_abl.info()"
   ]
  },
  {
   "cell_type": "code",
   "execution_count": 72,
   "id": "d3f6d7d9-5d2c-4afe-ab03-5d99fbc4efcd",
   "metadata": {},
   "outputs": [
    {
     "data": {
      "text/html": [
       "<div>\n",
       "<style scoped>\n",
       "    .dataframe tbody tr th:only-of-type {\n",
       "        vertical-align: middle;\n",
       "    }\n",
       "\n",
       "    .dataframe tbody tr th {\n",
       "        vertical-align: top;\n",
       "    }\n",
       "\n",
       "    .dataframe thead th {\n",
       "        text-align: right;\n",
       "    }\n",
       "</style>\n",
       "<table border=\"1\" class=\"dataframe\">\n",
       "  <thead>\n",
       "    <tr style=\"text-align: right;\">\n",
       "      <th></th>\n",
       "      <th>_id</th>\n",
       "      <th>answer</th>\n",
       "      <th>question</th>\n",
       "      <th>supporting_facts</th>\n",
       "      <th>context</th>\n",
       "      <th>type</th>\n",
       "      <th>level</th>\n",
       "      <th>llm_responses</th>\n",
       "    </tr>\n",
       "  </thead>\n",
       "  <tbody>\n",
       "    <tr>\n",
       "      <th>0</th>\n",
       "      <td>5a8b57f25542995d1e6f1371</td>\n",
       "      <td>yes</td>\n",
       "      <td>Were Scott Derrickson and Ed Wood of the same ...</td>\n",
       "      <td>[['Scott Derrickson', 0], ['Ed Wood', 0]]</td>\n",
       "      <td># 1. Ed Wood (film)\\n\\t1. Ed Wood is a 1994 Am...</td>\n",
       "      <td>comparison</td>\n",
       "      <td>hard</td>\n",
       "      <td>No, Scott Derrickson and Ed Wood were not of t...</td>\n",
       "    </tr>\n",
       "    <tr>\n",
       "      <th>1</th>\n",
       "      <td>5a8c7595554299585d9e36b6</td>\n",
       "      <td>Chief of Protocol</td>\n",
       "      <td>What government position was held by the woman...</td>\n",
       "      <td>[['Kiss and Tell (1945 film)', 0], ['Shirley T...</td>\n",
       "      <td># 1. Meet Corliss Archer\\n\\t1. Meet Corliss Ar...</td>\n",
       "      <td>bridge</td>\n",
       "      <td>hard</td>\n",
       "      <td>Unfortunately, the information provided does n...</td>\n",
       "    </tr>\n",
       "    <tr>\n",
       "      <th>2</th>\n",
       "      <td>5a85ea095542994775f606a8</td>\n",
       "      <td>Animorphs</td>\n",
       "      <td>What science fantasy young adult series, told ...</td>\n",
       "      <td>[['The Hork-Bajir Chronicles', 0], ['The Hork-...</td>\n",
       "      <td># 1. Andre Norton Award\\n\\t1. The Andre Norton...</td>\n",
       "      <td>bridge</td>\n",
       "      <td>hard</td>\n",
       "      <td>Based on the provided information, I can answe...</td>\n",
       "    </tr>\n",
       "    <tr>\n",
       "      <th>3</th>\n",
       "      <td>5adbf0a255429947ff17385a</td>\n",
       "      <td>no</td>\n",
       "      <td>Are the Laleli Mosque and Esma Sultan Mansion ...</td>\n",
       "      <td>[['Laleli Mosque', 0], ['Esma Sultan Mansion',...</td>\n",
       "      <td># 1. Esma Sultan (daughter of Abdülaziz)\\n\\t1....</td>\n",
       "      <td>comparison</td>\n",
       "      <td>hard</td>\n",
       "      <td>I can help you with that!\\n\\nAccording to the ...</td>\n",
       "    </tr>\n",
       "    <tr>\n",
       "      <th>4</th>\n",
       "      <td>5a8e3ea95542995a26add48d</td>\n",
       "      <td>Greenwich Village, New York City</td>\n",
       "      <td>The director of the romantic comedy \"Big Stone...</td>\n",
       "      <td>[['Big Stone Gap (film)', 0], ['Adriana Trigia...</td>\n",
       "      <td># 1. Just Another Romantic Wrestling Comedy\\n\\...</td>\n",
       "      <td>bridge</td>\n",
       "      <td>hard</td>\n",
       "      <td>Based on the information provided, the directo...</td>\n",
       "    </tr>\n",
       "  </tbody>\n",
       "</table>\n",
       "</div>"
      ],
      "text/plain": [
       "                        _id                            answer  \\\n",
       "0  5a8b57f25542995d1e6f1371                               yes   \n",
       "1  5a8c7595554299585d9e36b6                 Chief of Protocol   \n",
       "2  5a85ea095542994775f606a8                         Animorphs   \n",
       "3  5adbf0a255429947ff17385a                                no   \n",
       "4  5a8e3ea95542995a26add48d  Greenwich Village, New York City   \n",
       "\n",
       "                                            question  \\\n",
       "0  Were Scott Derrickson and Ed Wood of the same ...   \n",
       "1  What government position was held by the woman...   \n",
       "2  What science fantasy young adult series, told ...   \n",
       "3  Are the Laleli Mosque and Esma Sultan Mansion ...   \n",
       "4  The director of the romantic comedy \"Big Stone...   \n",
       "\n",
       "                                    supporting_facts  \\\n",
       "0          [['Scott Derrickson', 0], ['Ed Wood', 0]]   \n",
       "1  [['Kiss and Tell (1945 film)', 0], ['Shirley T...   \n",
       "2  [['The Hork-Bajir Chronicles', 0], ['The Hork-...   \n",
       "3  [['Laleli Mosque', 0], ['Esma Sultan Mansion',...   \n",
       "4  [['Big Stone Gap (film)', 0], ['Adriana Trigia...   \n",
       "\n",
       "                                             context        type level  \\\n",
       "0  # 1. Ed Wood (film)\\n\\t1. Ed Wood is a 1994 Am...  comparison  hard   \n",
       "1  # 1. Meet Corliss Archer\\n\\t1. Meet Corliss Ar...      bridge  hard   \n",
       "2  # 1. Andre Norton Award\\n\\t1. The Andre Norton...      bridge  hard   \n",
       "3  # 1. Esma Sultan (daughter of Abdülaziz)\\n\\t1....  comparison  hard   \n",
       "4  # 1. Just Another Romantic Wrestling Comedy\\n\\...      bridge  hard   \n",
       "\n",
       "                                       llm_responses  \n",
       "0  No, Scott Derrickson and Ed Wood were not of t...  \n",
       "1  Unfortunately, the information provided does n...  \n",
       "2  Based on the provided information, I can answe...  \n",
       "3  I can help you with that!\\n\\nAccording to the ...  \n",
       "4  Based on the information provided, the directo...  "
      ]
     },
     "execution_count": 72,
     "metadata": {},
     "output_type": "execute_result"
    }
   ],
   "source": [
    "df_abl.head()"
   ]
  },
  {
   "cell_type": "code",
   "execution_count": 79,
   "id": "18f3d876-e665-42fa-b595-abfe2e92003a",
   "metadata": {},
   "outputs": [],
   "source": [
    "df_abl['context_lists'] = df_abl._id.map(id2json)"
   ]
  },
  {
   "cell_type": "code",
   "execution_count": 80,
   "id": "d719e7e1-47b5-47ac-953c-99fef46fc4af",
   "metadata": {},
   "outputs": [
    {
     "name": "stdout",
     "output_type": "stream",
     "text": [
      "<class 'pandas.core.frame.DataFrame'>\n",
      "RangeIndex: 7405 entries, 0 to 7404\n",
      "Data columns (total 9 columns):\n",
      " #   Column            Non-Null Count  Dtype \n",
      "---  ------            --------------  ----- \n",
      " 0   _id               7405 non-null   object\n",
      " 1   answer            7405 non-null   object\n",
      " 2   question          7405 non-null   object\n",
      " 3   supporting_facts  7405 non-null   object\n",
      " 4   context           7405 non-null   object\n",
      " 5   type              7405 non-null   object\n",
      " 6   level             7405 non-null   object\n",
      " 7   llm_responses     7405 non-null   object\n",
      " 8   context_lists     7405 non-null   object\n",
      "dtypes: object(9)\n",
      "memory usage: 520.8+ KB\n"
     ]
    }
   ],
   "source": [
    "df_abl.info()"
   ]
  },
  {
   "cell_type": "code",
   "execution_count": 81,
   "id": "31241bb5-56fc-4585-855d-a94615a8fc64",
   "metadata": {},
   "outputs": [
    {
     "data": {
      "text/html": [
       "<div>\n",
       "<style scoped>\n",
       "    .dataframe tbody tr th:only-of-type {\n",
       "        vertical-align: middle;\n",
       "    }\n",
       "\n",
       "    .dataframe tbody tr th {\n",
       "        vertical-align: top;\n",
       "    }\n",
       "\n",
       "    .dataframe thead th {\n",
       "        text-align: right;\n",
       "    }\n",
       "</style>\n",
       "<table border=\"1\" class=\"dataframe\">\n",
       "  <thead>\n",
       "    <tr style=\"text-align: right;\">\n",
       "      <th></th>\n",
       "      <th>_id</th>\n",
       "      <th>answer</th>\n",
       "      <th>question</th>\n",
       "      <th>supporting_facts</th>\n",
       "      <th>context</th>\n",
       "      <th>type</th>\n",
       "      <th>level</th>\n",
       "      <th>llm_responses</th>\n",
       "      <th>context_lists</th>\n",
       "    </tr>\n",
       "  </thead>\n",
       "  <tbody>\n",
       "    <tr>\n",
       "      <th>0</th>\n",
       "      <td>5a8b57f25542995d1e6f1371</td>\n",
       "      <td>yes</td>\n",
       "      <td>Were Scott Derrickson and Ed Wood of the same ...</td>\n",
       "      <td>[['Scott Derrickson', 0], ['Ed Wood', 0]]</td>\n",
       "      <td># 1. Ed Wood (film)\\n\\t1. Ed Wood is a 1994 Am...</td>\n",
       "      <td>comparison</td>\n",
       "      <td>hard</td>\n",
       "      <td>No, Scott Derrickson and Ed Wood were not of t...</td>\n",
       "      <td>[[Ed Wood (film), [Ed Wood is a 1994 American ...</td>\n",
       "    </tr>\n",
       "    <tr>\n",
       "      <th>1</th>\n",
       "      <td>5a8c7595554299585d9e36b6</td>\n",
       "      <td>Chief of Protocol</td>\n",
       "      <td>What government position was held by the woman...</td>\n",
       "      <td>[['Kiss and Tell (1945 film)', 0], ['Shirley T...</td>\n",
       "      <td># 1. Meet Corliss Archer\\n\\t1. Meet Corliss Ar...</td>\n",
       "      <td>bridge</td>\n",
       "      <td>hard</td>\n",
       "      <td>Unfortunately, the information provided does n...</td>\n",
       "      <td>[[Meet Corliss Archer, [Meet Corliss Archer, a...</td>\n",
       "    </tr>\n",
       "    <tr>\n",
       "      <th>2</th>\n",
       "      <td>5a85ea095542994775f606a8</td>\n",
       "      <td>Animorphs</td>\n",
       "      <td>What science fantasy young adult series, told ...</td>\n",
       "      <td>[['The Hork-Bajir Chronicles', 0], ['The Hork-...</td>\n",
       "      <td># 1. Andre Norton Award\\n\\t1. The Andre Norton...</td>\n",
       "      <td>bridge</td>\n",
       "      <td>hard</td>\n",
       "      <td>Based on the provided information, I can answe...</td>\n",
       "      <td>[[Andre Norton Award, [The Andre Norton Award ...</td>\n",
       "    </tr>\n",
       "    <tr>\n",
       "      <th>3</th>\n",
       "      <td>5adbf0a255429947ff17385a</td>\n",
       "      <td>no</td>\n",
       "      <td>Are the Laleli Mosque and Esma Sultan Mansion ...</td>\n",
       "      <td>[['Laleli Mosque', 0], ['Esma Sultan Mansion',...</td>\n",
       "      <td># 1. Esma Sultan (daughter of Abdülaziz)\\n\\t1....</td>\n",
       "      <td>comparison</td>\n",
       "      <td>hard</td>\n",
       "      <td>I can help you with that!\\n\\nAccording to the ...</td>\n",
       "      <td>[[Esma Sultan (daughter of Abdülaziz), [Esma S...</td>\n",
       "    </tr>\n",
       "    <tr>\n",
       "      <th>4</th>\n",
       "      <td>5a8e3ea95542995a26add48d</td>\n",
       "      <td>Greenwich Village, New York City</td>\n",
       "      <td>The director of the romantic comedy \"Big Stone...</td>\n",
       "      <td>[['Big Stone Gap (film)', 0], ['Adriana Trigia...</td>\n",
       "      <td># 1. Just Another Romantic Wrestling Comedy\\n\\...</td>\n",
       "      <td>bridge</td>\n",
       "      <td>hard</td>\n",
       "      <td>Based on the information provided, the directo...</td>\n",
       "      <td>[[Just Another Romantic Wrestling Comedy, [Jus...</td>\n",
       "    </tr>\n",
       "  </tbody>\n",
       "</table>\n",
       "</div>"
      ],
      "text/plain": [
       "                        _id                            answer  \\\n",
       "0  5a8b57f25542995d1e6f1371                               yes   \n",
       "1  5a8c7595554299585d9e36b6                 Chief of Protocol   \n",
       "2  5a85ea095542994775f606a8                         Animorphs   \n",
       "3  5adbf0a255429947ff17385a                                no   \n",
       "4  5a8e3ea95542995a26add48d  Greenwich Village, New York City   \n",
       "\n",
       "                                            question  \\\n",
       "0  Were Scott Derrickson and Ed Wood of the same ...   \n",
       "1  What government position was held by the woman...   \n",
       "2  What science fantasy young adult series, told ...   \n",
       "3  Are the Laleli Mosque and Esma Sultan Mansion ...   \n",
       "4  The director of the romantic comedy \"Big Stone...   \n",
       "\n",
       "                                    supporting_facts  \\\n",
       "0          [['Scott Derrickson', 0], ['Ed Wood', 0]]   \n",
       "1  [['Kiss and Tell (1945 film)', 0], ['Shirley T...   \n",
       "2  [['The Hork-Bajir Chronicles', 0], ['The Hork-...   \n",
       "3  [['Laleli Mosque', 0], ['Esma Sultan Mansion',...   \n",
       "4  [['Big Stone Gap (film)', 0], ['Adriana Trigia...   \n",
       "\n",
       "                                             context        type level  \\\n",
       "0  # 1. Ed Wood (film)\\n\\t1. Ed Wood is a 1994 Am...  comparison  hard   \n",
       "1  # 1. Meet Corliss Archer\\n\\t1. Meet Corliss Ar...      bridge  hard   \n",
       "2  # 1. Andre Norton Award\\n\\t1. The Andre Norton...      bridge  hard   \n",
       "3  # 1. Esma Sultan (daughter of Abdülaziz)\\n\\t1....  comparison  hard   \n",
       "4  # 1. Just Another Romantic Wrestling Comedy\\n\\...      bridge  hard   \n",
       "\n",
       "                                       llm_responses  \\\n",
       "0  No, Scott Derrickson and Ed Wood were not of t...   \n",
       "1  Unfortunately, the information provided does n...   \n",
       "2  Based on the provided information, I can answe...   \n",
       "3  I can help you with that!\\n\\nAccording to the ...   \n",
       "4  Based on the information provided, the directo...   \n",
       "\n",
       "                                       context_lists  \n",
       "0  [[Ed Wood (film), [Ed Wood is a 1994 American ...  \n",
       "1  [[Meet Corliss Archer, [Meet Corliss Archer, a...  \n",
       "2  [[Andre Norton Award, [The Andre Norton Award ...  \n",
       "3  [[Esma Sultan (daughter of Abdülaziz), [Esma S...  \n",
       "4  [[Just Another Romantic Wrestling Comedy, [Jus...  "
      ]
     },
     "execution_count": 81,
     "metadata": {},
     "output_type": "execute_result"
    }
   ],
   "source": [
    "df_abl.head()"
   ]
  },
  {
   "cell_type": "code",
   "execution_count": 82,
   "id": "2d86803c-b2ed-43f1-8efa-9dbfaac069f5",
   "metadata": {},
   "outputs": [],
   "source": [
    "df_abl.to_csv('/root/llm_quant_safety/data/hotpotqa/responses/llama_abl_with_context_lists.csv', index=False)"
   ]
  },
  {
   "cell_type": "code",
   "execution_count": null,
   "id": "4036a897-2cb5-402d-a5e6-7ad0fa310c78",
   "metadata": {},
   "outputs": [],
   "source": []
  }
 ],
 "metadata": {
  "kernelspec": {
   "display_name": "vllm",
   "language": "python",
   "name": "vllm"
  },
  "language_info": {
   "codemirror_mode": {
    "name": "ipython",
    "version": 3
   },
   "file_extension": ".py",
   "mimetype": "text/x-python",
   "name": "python",
   "nbconvert_exporter": "python",
   "pygments_lexer": "ipython3",
   "version": "3.8.10"
  }
 },
 "nbformat": 4,
 "nbformat_minor": 5
}
